{
  "nbformat": 4,
  "nbformat_minor": 0,
  "metadata": {
    "colab": {
      "provenance": [],
      "collapsed_sections": [],
      "authorship_tag": "ABX9TyPwAZLVQZyUUppunmp0Az3f",
      "include_colab_link": true
    },
    "kernelspec": {
      "name": "python3",
      "display_name": "Python 3"
    },
    "language_info": {
      "name": "python"
    }
  },
  "cells": [
    {
      "cell_type": "markdown",
      "metadata": {
        "id": "view-in-github",
        "colab_type": "text"
      },
      "source": [
        "<a href=\"https://colab.research.google.com/github/minseokey/Data_Science/blob/main/DataScience05_1.ipynb\" target=\"_parent\"><img src=\"https://colab.research.google.com/assets/colab-badge.svg\" alt=\"Open In Colab\"/></a>"
      ]
    },
    {
      "cell_type": "code",
      "execution_count": null,
      "metadata": {
        "id": "7mcD2hZ0imq_"
      },
      "outputs": [],
      "source": [
        "import torch\n",
        "x_train = torch.FloatTensor([[1],[2],[3],[4],[5],[2.5],[3.5],[0],[3.1],[2.7],[2.8],[2.9]])\n",
        "y_train = torch.FloatTensor([[1],[1],[1],[0],[0],[0],[0],[1],[0],[1],[1],[1]])\n"
      ]
    },
    {
      "cell_type": "code",
      "source": [
        "W = torch.randn((1,1),requires_grad = True) # 안에다가 차원을 나타내준다 지금은 1차원이니까 1,1\n",
        "b = torch.randn((1,1),requires_grad = True)\n",
        "\n",
        "lr = 1.0\n",
        "\n",
        "optim = torch.optim.SGD([W,b],lr = 1.0)\n",
        "\n",
        "for epoch in range(1000):\n",
        "  W.requires_grad_(True)\n",
        "  b.requires_grad_(True)\n",
        "\n",
        "  h = torch.sigmoid(torch.mm(x_train,W) + b)\n",
        "  cost = torch.mean(-y_train * torch.log(h)-(1 - y_train) * torch.log(1 - h))\n",
        "\n",
        "  optim.zero_grad() # 기울기값 초기화\n",
        "  # with torch.no_grad():\n",
        "  #   W.grad = torch.FloatTensor([[0]])\n",
        "  #   b.grad = torch.FloatTensor([[0]])\n",
        "  cost.backward() #r기울기계산\n",
        "  optim.step() # 파라미터 업데이트(optimiser)\n",
        "\n",
        "  # with torch.no_grad(): 여가선 그래프 그리지마\n",
        "  #   파라미터업데이트\n",
        "  #   W = W-lr*W.grad\n",
        "  #   b = b-lr*b.grad\n",
        "\n",
        "  if epoch %100 == 0:\n",
        "    print(f\"W:{W.item()}, b:{b.item()}, cost:{cost.item()}\") "
      ],
      "metadata": {
        "colab": {
          "base_uri": "https://localhost:8080/"
        },
        "id": "J5SzF8fgk_FK",
        "outputId": "865a29fe-4d73-4347-9b6c-1404cb4a4996"
      },
      "execution_count": null,
      "outputs": [
        {
          "output_type": "stream",
          "name": "stdout",
          "text": [
            "W:-0.6408638954162598, b:0.05635973811149597, cost:1.05049467086792\n",
            "W:-1.458793044090271, b:4.430042266845703, cost:0.4197414815425873\n",
            "W:-1.9026304483413696, b:5.786503314971924, cost:0.39857593178749084\n",
            "W:-2.1771421432495117, b:6.618072509765625, cost:0.3907555341720581\n",
            "W:-2.369377613067627, b:7.197767734527588, cost:0.3869747221469879\n",
            "W:-2.5121781826019287, b:7.627193450927734, cost:0.3849048614501953\n",
            "W:-2.6219890117645264, b:7.956792831420898, cost:0.383686900138855\n",
            "W:-2.7083590030670166, b:8.21568489074707, cost:0.38293612003326416\n",
            "W:-2.7773683071136475, b:8.422332763671875, cost:0.382457971572876\n",
            "W:-2.833148956298828, b:8.589240074157715, cost:0.3821462094783783\n"
          ]
        }
      ]
    },
    {
      "cell_type": "code",
      "source": [
        "with torch.no_grad():\n",
        "  x_test = torch.FloatTensor([[4.5],[1.1]])\n",
        "  y_test = torch.sigmoid(torch.mm(x_test, W) + b)\n",
        "  y_test[y_test>0.5 ] = 1\n",
        "  y_test[y_test <= 0.5] = 0\n",
        "  print(y_test)\n"
      ],
      "metadata": {
        "colab": {
          "base_uri": "https://localhost:8080/"
        },
        "id": "8QkLdISVrUn1",
        "outputId": "910f3f66-de58-4508-8572-a842272d3e4f"
      },
      "execution_count": null,
      "outputs": [
        {
          "output_type": "stream",
          "name": "stdout",
          "text": [
            "tensor([[0.],\n",
            "        [1.]])\n"
          ]
        }
      ]
    },
    {
      "cell_type": "code",
      "source": [
        "import matplotlib.pyplot as plt\n",
        "W.requires_grad_(False)\n",
        "b.requires_grad_(False)\n",
        "\n",
        "x_tmp = torch.linspace(0,5,100).unsqueeze(1)\n",
        "y_tmp = torch.sigmoid(torch.mm(x_tmp,W)+b)\n",
        "plt.scatter(x_train,y_train)\n",
        "plt.plot(x_tmp,y_tmp)\n",
        "plt.show()"
      ],
      "metadata": {
        "colab": {
          "base_uri": "https://localhost:8080/",
          "height": 265
        },
        "id": "--QgZcTUkg7K",
        "outputId": "cb1b559b-fb03-44a3-a34d-1d5e062b7492"
      },
      "execution_count": null,
      "outputs": [
        {
          "output_type": "display_data",
          "data": {
            "text/plain": [
              "<Figure size 432x288 with 1 Axes>"
            ],
            "image/png": "[encoded data removed]"
          },
          "metadata": {
            "needs_background": "light"
          }
        }
      ]
    },
    {
      "cell_type": "code",
      "source": [
        "from sklearn.linear_model import LogisticRegression\n",
        "\n",
        "x_train = [[1],[2],[3],[4],[5],[2.5],[3.5],[0],[3.1],[2.7],[2.8],[2.9]]\n",
        "y_train = [1,1,1,0,0,0,0,1,0,1,1,1] # 입력 shape이 pytorch에서와 다름에 주의!\n",
        "\n",
        "model = LogisticRegression(penalty='none') # penalty (or regularization)은 추후 설명\n",
        "model.fit(x_train, y_train)\n",
        "\n",
        "print(model.coef_, model.intercept_)\n",
        "\n",
        "x_test = [[4.5],[1.1]]\n",
        "res = model.predict(x_test)\n",
        "print(res)"
      ],
      "metadata": {
        "colab": {
          "base_uri": "https://localhost:8080/"
        },
        "id": "cmaGSEyLwSgB",
        "outputId": "ddba0082-2009-4405-9582-439a94213971"
      },
      "execution_count": null,
      "outputs": [
        {
          "output_type": "stream",
          "name": "stdout",
          "text": [
            "[[-3.10385806]] [9.39776831]\n",
            "[0 1]\n"
          ]
        }
      ]
    }
  ]
}