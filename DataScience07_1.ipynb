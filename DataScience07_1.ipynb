{
  "metadata": {
    "kernelspec": {
      "language": "python",
      "display_name": "Python 3",
      "name": "python3"
    },
    "language_info": {
      "name": "python",
      "version": "3.7.12",
      "mimetype": "text/x-python",
      "codemirror_mode": {
        "name": "ipython",
        "version": 3
      },
      "pygments_lexer": "ipython3",
      "nbconvert_exporter": "python",
      "file_extension": ".py"
    },
    "colab": {
      "provenance": [],
      "include_colab_link": true
    }
  },
  "nbformat_minor": 0,
  "nbformat": 4,
  "cells": [
    {
      "cell_type": "markdown",
      "metadata": {
        "id": "view-in-github",
        "colab_type": "text"
      },
      "source": [
        "<a href=\"https://colab.research.google.com/github/minseokey/Data_Science/blob/main/DataScience07_1.ipynb\" target=\"_parent\"><img src=\"https://colab.research.google.com/assets/colab-badge.svg\" alt=\"Open In Colab\"/></a>"
      ]
    },
    {
      "cell_type": "code",
      "source": [
        "# This Python 3 environment comes with many helpful analytics libraries installed\n",
        "# It is defined by the kaggle/python Docker image: https://github.com/kaggle/docker-python\n",
        "# For example, here's several helpful packages to load\n",
        "\n",
        "import numpy as np # linear algebra\n",
        "import pandas as pd # data processing, CSV file I/O (e.g. pd.read_csv)\n",
        "\n",
        "# Input data files are available in the read-only \"../input/\" directory\n",
        "# For example, running this (by clicking run or pressing Shift+Enter) will list all files under the input directory\n",
        "\n",
        "import os\n",
        "for dirname, _, filenames in os.walk('/kaggle/input'):\n",
        "    for filename in filenames:\n",
        "        print(os.path.join(dirname, filename))\n",
        "\n",
        "# You can write up to 20GB to the current directory (/kaggle/working/) that gets preserved as output when you create a version using \"Save & Run All\" \n",
        "# You can also write temporary files to /kaggle/temp/, but they won't be saved outside of the current session"
      ],
      "metadata": {
        "_uuid": "8f2839f25d086af736a60e9eeb907d3b93b6e0e5",
        "_cell_guid": "b1076dfc-b9ad-4769-8c92-a6c4dae69d19",
        "execution": {
          "iopub.status.busy": "2022-10-17T07:30:17.759726Z",
          "iopub.execute_input": "2022-10-17T07:30:17.760163Z",
          "iopub.status.idle": "2022-10-17T07:30:17.775466Z",
          "shell.execute_reply.started": "2022-10-17T07:30:17.760127Z",
          "shell.execute_reply": "2022-10-17T07:30:17.774632Z"
        },
        "trusted": true,
        "id": "UmLOm2AUKa1I",
        "outputId": "47707d1e-3f5f-42ed-db42-33ac3bb7a14b"
      },
      "execution_count": null,
      "outputs": [
        {
          "name": "stdout",
          "text": "/kaggle/input/the-movies-dataset/ratings.csv\n/kaggle/input/the-movies-dataset/links_small.csv\n/kaggle/input/the-movies-dataset/credits.csv\n/kaggle/input/the-movies-dataset/keywords.csv\n/kaggle/input/the-movies-dataset/movies_metadata.csv\n/kaggle/input/the-movies-dataset/ratings_small.csv\n/kaggle/input/the-movies-dataset/links.csv\n",
          "output_type": "stream"
        }
      ]
    },
    {
      "cell_type": "code",
      "source": [
        "meta = pd.read_csv( '/kaggle/input/the-movies-dataset/movies_metadata.csv' )\n",
        "meta\n"
      ],
      "metadata": {
        "execution": {
          "iopub.status.busy": "2022-10-17T07:30:17.777029Z",
          "iopub.execute_input": "2022-10-17T07:30:17.777593Z",
          "iopub.status.idle": "2022-10-17T07:30:18.610084Z",
          "shell.execute_reply.started": "2022-10-17T07:30:17.777559Z",
          "shell.execute_reply": "2022-10-17T07:30:18.608869Z"
        },
        "trusted": true,
        "id": "mRkPV7okKa1N",
        "outputId": "0ee0db90-ef4b-4fb9-bc17-2e4f51dd9865"
      },
      "execution_count": null,
      "outputs": [
        {
          "name": "stderr",
          "text": "/opt/conda/lib/python3.7/site-packages/IPython/core/interactiveshell.py:3552: DtypeWarning: Columns (10) have mixed types.Specify dtype option on import or set low_memory=False.\n  exec(code_obj, self.user_global_ns, self.user_ns)\n",
          "output_type": "stream"
        },
        {
          "execution_count": 32,
          "output_type": "execute_result",
          "data": {
            "text/plain": "       adult                              belongs_to_collection    budget  \\\n0      False  {'id': 10194, 'name': 'Toy Story Collection', ...  30000000   \n1      False                                                NaN  65000000   \n2      False  {'id': 119050, 'name': 'Grumpy Old Men Collect...         0   \n3      False                                                NaN  16000000   \n4      False  {'id': 96871, 'name': 'Father of the Bride Col...         0   \n...      ...                                                ...       ...   \n45461  False                                                NaN         0   \n45462  False                                                NaN         0   \n45463  False                                                NaN         0   \n45464  False                                                NaN         0   \n45465  False                                                NaN         0   \n\n                                                  genres  \\\n0      [{'id': 16, 'name': 'Animation'}, {'id': 35, '...   \n1      [{'id': 12, 'name': 'Adventure'}, {'id': 14, '...   \n2      [{'id': 10749, 'name': 'Romance'}, {'id': 35, ...   \n3      [{'id': 35, 'name': 'Comedy'}, {'id': 18, 'nam...   \n4                         [{'id': 35, 'name': 'Comedy'}]   \n...                                                  ...   \n45461  [{'id': 18, 'name': 'Drama'}, {'id': 10751, 'n...   \n45462                      [{'id': 18, 'name': 'Drama'}]   \n45463  [{'id': 28, 'name': 'Action'}, {'id': 18, 'nam...   \n45464                                                 []   \n45465                                                 []   \n\n                                   homepage      id    imdb_id  \\\n0      http://toystory.disney.com/toy-story     862  tt0114709   \n1                                       NaN    8844  tt0113497   \n2                                       NaN   15602  tt0113228   \n3                                       NaN   31357  tt0114885   \n4                                       NaN   11862  tt0113041   \n...                                     ...     ...        ...   \n45461  http://www.imdb.com/title/tt6209470/  439050  tt6209470   \n45462                                   NaN  111109  tt2028550   \n45463                                   NaN   67758  tt0303758   \n45464                                   NaN  227506  tt0008536   \n45465                                   NaN  461257  tt6980792   \n\n      original_language               original_title  \\\n0                    en                    Toy Story   \n1                    en                      Jumanji   \n2                    en             Grumpier Old Men   \n3                    en            Waiting to Exhale   \n4                    en  Father of the Bride Part II   \n...                 ...                          ...   \n45461                fa                      رگ خواب   \n45462                tl          Siglo ng Pagluluwal   \n45463                en                     Betrayal   \n45464                en          Satana likuyushchiy   \n45465                en                     Queerama   \n\n                                                overview  ... release_date  \\\n0      Led by Woody, Andy's toys live happily in his ...  ...   1995-10-30   \n1      When siblings Judy and Peter discover an encha...  ...   1995-12-15   \n2      A family wedding reignites the ancient feud be...  ...   1995-12-22   \n3      Cheated on, mistreated and stepped on, the wom...  ...   1995-12-22   \n4      Just when George Banks has recovered from his ...  ...   1995-02-10   \n...                                                  ...  ...          ...   \n45461        Rising and falling between a man and woman.  ...          NaN   \n45462  An artist struggles to finish his work while a...  ...   2011-11-17   \n45463  When one of her hits goes wrong, a professiona...  ...   2003-08-01   \n45464  In a small town live two brothers, one a minis...  ...   1917-10-21   \n45465  50 years after decriminalisation of homosexual...  ...   2017-06-09   \n\n           revenue runtime                                   spoken_languages  \\\n0      373554033.0    81.0           [{'iso_639_1': 'en', 'name': 'English'}]   \n1      262797249.0   104.0  [{'iso_639_1': 'en', 'name': 'English'}, {'iso...   \n2              0.0   101.0           [{'iso_639_1': 'en', 'name': 'English'}]   \n3       81452156.0   127.0           [{'iso_639_1': 'en', 'name': 'English'}]   \n4       76578911.0   106.0           [{'iso_639_1': 'en', 'name': 'English'}]   \n...            ...     ...                                                ...   \n45461          0.0    90.0             [{'iso_639_1': 'fa', 'name': 'فارسی'}]   \n45462          0.0   360.0                  [{'iso_639_1': 'tl', 'name': ''}]   \n45463          0.0    90.0           [{'iso_639_1': 'en', 'name': 'English'}]   \n45464          0.0    87.0                                                 []   \n45465          0.0    75.0           [{'iso_639_1': 'en', 'name': 'English'}]   \n\n         status                                            tagline  \\\n0      Released                                                NaN   \n1      Released          Roll the dice and unleash the excitement!   \n2      Released  Still Yelling. Still Fighting. Still Ready for...   \n3      Released  Friends are the people who let you be yourself...   \n4      Released  Just When His World Is Back To Normal... He's ...   \n...         ...                                                ...   \n45461  Released         Rising and falling between a man and woman   \n45462  Released                                                NaN   \n45463  Released                             A deadly game of wits.   \n45464  Released                                                NaN   \n45465  Released                                                NaN   \n\n                             title  video vote_average vote_count  \n0                        Toy Story  False          7.7     5415.0  \n1                          Jumanji  False          6.9     2413.0  \n2                 Grumpier Old Men  False          6.5       92.0  \n3                Waiting to Exhale  False          6.1       34.0  \n4      Father of the Bride Part II  False          5.7      173.0  \n...                            ...    ...          ...        ...  \n45461                       Subdue  False          4.0        1.0  \n45462          Century of Birthing  False          9.0        3.0  \n45463                     Betrayal  False          3.8        6.0  \n45464             Satan Triumphant  False          0.0        0.0  \n45465                     Queerama  False          0.0        0.0  \n\n[45466 rows x 24 columns]",
            "text/html": "<div>\n<style scoped>\n    .dataframe tbody tr th:only-of-type {\n        vertical-align: middle;\n    }\n\n    .dataframe tbody tr th {\n        vertical-align: top;\n    }\n\n    .dataframe thead th {\n        text-align: right;\n    }\n</style>\n<table border=\"1\" class=\"dataframe\">\n  <thead>\n    <tr style=\"text-align: right;\">\n      <th></th>\n      <th>adult</th>\n      <th>belongs_to_collection</th>\n      <th>budget</th>\n      <th>genres</th>\n      <th>homepage</th>\n      <th>id</th>\n      <th>imdb_id</th>\n      <th>original_language</th>\n      <th>original_title</th>\n      <th>overview</th>\n      <th>...</th>\n      <th>release_date</th>\n      <th>revenue</th>\n      <th>runtime</th>\n      <th>spoken_languages</th>\n      <th>status</th>\n      <th>tagline</th>\n      <th>title</th>\n      <th>video</th>\n      <th>vote_average</th>\n      <th>vote_count</th>\n    </tr>\n  </thead>\n  <tbody>\n    <tr>\n      <th>0</th>\n      <td>False</td>\n      <td>{'id': 10194, 'name': 'Toy Story Collection', ...</td>\n      <td>30000000</td>\n      <td>[{'id': 16, 'name': 'Animation'}, {'id': 35, '...</td>\n      <td>http://toystory.disney.com/toy-story</td>\n      <td>862</td>\n      <td>tt0114709</td>\n      <td>en</td>\n      <td>Toy Story</td>\n      <td>Led by Woody, Andy's toys live happily in his ...</td>\n      <td>...</td>\n      <td>1995-10-30</td>\n      <td>373554033.0</td>\n      <td>81.0</td>\n      <td>[{'iso_639_1': 'en', 'name': 'English'}]</td>\n      <td>Released</td>\n      <td>NaN</td>\n      <td>Toy Story</td>\n      <td>False</td>\n      <td>7.7</td>\n      <td>5415.0</td>\n    </tr>\n    <tr>\n      <th>1</th>\n      <td>False</td>\n      <td>NaN</td>\n      <td>65000000</td>\n      <td>[{'id': 12, 'name': 'Adventure'}, {'id': 14, '...</td>\n      <td>NaN</td>\n      <td>8844</td>\n      <td>tt0113497</td>\n      <td>en</td>\n      <td>Jumanji</td>\n      <td>When siblings Judy and Peter discover an encha...</td>\n      <td>...</td>\n      <td>1995-12-15</td>\n      <td>262797249.0</td>\n      <td>104.0</td>\n      <td>[{'iso_639_1': 'en', 'name': 'English'}, {'iso...</td>\n      <td>Released</td>\n      <td>Roll the dice and unleash the excitement!</td>\n      <td>Jumanji</td>\n      <td>False</td>\n      <td>6.9</td>\n      <td>2413.0</td>\n    </tr>\n    <tr>\n      <th>2</th>\n      <td>False</td>\n      <td>{'id': 119050, 'name': 'Grumpy Old Men Collect...</td>\n      <td>0</td>\n      <td>[{'id': 10749, 'name': 'Romance'}, {'id': 35, ...</td>\n      <td>NaN</td>\n      <td>15602</td>\n      <td>tt0113228</td>\n      <td>en</td>\n      <td>Grumpier Old Men</td>\n      <td>A family wedding reignites the ancient feud be...</td>\n      <td>...</td>\n      <td>1995-12-22</td>\n      <td>0.0</td>\n      <td>101.0</td>\n      <td>[{'iso_639_1': 'en', 'name': 'English'}]</td>\n      <td>Released</td>\n      <td>Still Yelling. Still Fighting. Still Ready for...</td>\n      <td>Grumpier Old Men</td>\n      <td>False</td>\n      <td>6.5</td>\n      <td>92.0</td>\n    </tr>\n    <tr>\n      <th>3</th>\n      <td>False</td>\n      <td>NaN</td>\n      <td>16000000</td>\n      <td>[{'id': 35, 'name': 'Comedy'}, {'id': 18, 'nam...</td>\n      <td>NaN</td>\n      <td>31357</td>\n      <td>tt0114885</td>\n      <td>en</td>\n      <td>Waiting to Exhale</td>\n      <td>Cheated on, mistreated and stepped on, the wom...</td>\n      <td>...</td>\n      <td>1995-12-22</td>\n      <td>81452156.0</td>\n      <td>127.0</td>\n      <td>[{'iso_639_1': 'en', 'name': 'English'}]</td>\n      <td>Released</td>\n      <td>Friends are the people who let you be yourself...</td>\n      <td>Waiting to Exhale</td>\n      <td>False</td>\n      <td>6.1</td>\n      <td>34.0</td>\n    </tr>\n    <tr>\n      <th>4</th>\n      <td>False</td>\n      <td>{'id': 96871, 'name': 'Father of the Bride Col...</td>\n      <td>0</td>\n      <td>[{'id': 35, 'name': 'Comedy'}]</td>\n      <td>NaN</td>\n      <td>11862</td>\n      <td>tt0113041</td>\n      <td>en</td>\n      <td>Father of the Bride Part II</td>\n      <td>Just when George Banks has recovered from his ...</td>\n      <td>...</td>\n      <td>1995-02-10</td>\n      <td>76578911.0</td>\n      <td>106.0</td>\n      <td>[{'iso_639_1': 'en', 'name': 'English'}]</td>\n      <td>Released</td>\n      <td>Just When His World Is Back To Normal... He's ...</td>\n      <td>Father of the Bride Part II</td>\n      <td>False</td>\n      <td>5.7</td>\n      <td>173.0</td>\n    </tr>\n    <tr>\n      <th>...</th>\n      <td>...</td>\n      <td>...</td>\n      <td>...</td>\n      <td>...</td>\n      <td>...</td>\n      <td>...</td>\n      <td>...</td>\n      <td>...</td>\n      <td>...</td>\n      <td>...</td>\n      <td>...</td>\n      <td>...</td>\n      <td>...</td>\n      <td>...</td>\n      <td>...</td>\n      <td>...</td>\n      <td>...</td>\n      <td>...</td>\n      <td>...</td>\n      <td>...</td>\n      <td>...</td>\n    </tr>\n    <tr>\n      <th>45461</th>\n      <td>False</td>\n      <td>NaN</td>\n      <td>0</td>\n      <td>[{'id': 18, 'name': 'Drama'}, {'id': 10751, 'n...</td>\n      <td>http://www.imdb.com/title/tt6209470/</td>\n      <td>439050</td>\n      <td>tt6209470</td>\n      <td>fa</td>\n      <td>رگ خواب</td>\n      <td>Rising and falling between a man and woman.</td>\n      <td>...</td>\n      <td>NaN</td>\n      <td>0.0</td>\n      <td>90.0</td>\n      <td>[{'iso_639_1': 'fa', 'name': 'فارسی'}]</td>\n      <td>Released</td>\n      <td>Rising and falling between a man and woman</td>\n      <td>Subdue</td>\n      <td>False</td>\n      <td>4.0</td>\n      <td>1.0</td>\n    </tr>\n    <tr>\n      <th>45462</th>\n      <td>False</td>\n      <td>NaN</td>\n      <td>0</td>\n      <td>[{'id': 18, 'name': 'Drama'}]</td>\n      <td>NaN</td>\n      <td>111109</td>\n      <td>tt2028550</td>\n      <td>tl</td>\n      <td>Siglo ng Pagluluwal</td>\n      <td>An artist struggles to finish his work while a...</td>\n      <td>...</td>\n      <td>2011-11-17</td>\n      <td>0.0</td>\n      <td>360.0</td>\n      <td>[{'iso_639_1': 'tl', 'name': ''}]</td>\n      <td>Released</td>\n      <td>NaN</td>\n      <td>Century of Birthing</td>\n      <td>False</td>\n      <td>9.0</td>\n      <td>3.0</td>\n    </tr>\n    <tr>\n      <th>45463</th>\n      <td>False</td>\n      <td>NaN</td>\n      <td>0</td>\n      <td>[{'id': 28, 'name': 'Action'}, {'id': 18, 'nam...</td>\n      <td>NaN</td>\n      <td>67758</td>\n      <td>tt0303758</td>\n      <td>en</td>\n      <td>Betrayal</td>\n      <td>When one of her hits goes wrong, a professiona...</td>\n      <td>...</td>\n      <td>2003-08-01</td>\n      <td>0.0</td>\n      <td>90.0</td>\n      <td>[{'iso_639_1': 'en', 'name': 'English'}]</td>\n      <td>Released</td>\n      <td>A deadly game of wits.</td>\n      <td>Betrayal</td>\n      <td>False</td>\n      <td>3.8</td>\n      <td>6.0</td>\n    </tr>\n    <tr>\n      <th>45464</th>\n      <td>False</td>\n      <td>NaN</td>\n      <td>0</td>\n      <td>[]</td>\n      <td>NaN</td>\n      <td>227506</td>\n      <td>tt0008536</td>\n      <td>en</td>\n      <td>Satana likuyushchiy</td>\n      <td>In a small town live two brothers, one a minis...</td>\n      <td>...</td>\n      <td>1917-10-21</td>\n      <td>0.0</td>\n      <td>87.0</td>\n      <td>[]</td>\n      <td>Released</td>\n      <td>NaN</td>\n      <td>Satan Triumphant</td>\n      <td>False</td>\n      <td>0.0</td>\n      <td>0.0</td>\n    </tr>\n    <tr>\n      <th>45465</th>\n      <td>False</td>\n      <td>NaN</td>\n      <td>0</td>\n      <td>[]</td>\n      <td>NaN</td>\n      <td>461257</td>\n      <td>tt6980792</td>\n      <td>en</td>\n      <td>Queerama</td>\n      <td>50 years after decriminalisation of homosexual...</td>\n      <td>...</td>\n      <td>2017-06-09</td>\n      <td>0.0</td>\n      <td>75.0</td>\n      <td>[{'iso_639_1': 'en', 'name': 'English'}]</td>\n      <td>Released</td>\n      <td>NaN</td>\n      <td>Queerama</td>\n      <td>False</td>\n      <td>0.0</td>\n      <td>0.0</td>\n    </tr>\n  </tbody>\n</table>\n<p>45466 rows × 24 columns</p>\n</div>"
          },
          "metadata": {}
        }
      ]
    },
    {
      "cell_type": "code",
      "source": [
        "meta = meta[ ['id', 'original_title', 'original_language', 'genres'] ]\n"
      ],
      "metadata": {
        "execution": {
          "iopub.status.busy": "2022-10-17T07:30:18.611730Z",
          "iopub.execute_input": "2022-10-17T07:30:18.612104Z",
          "iopub.status.idle": "2022-10-17T07:30:18.621886Z",
          "shell.execute_reply.started": "2022-10-17T07:30:18.612071Z",
          "shell.execute_reply": "2022-10-17T07:30:18.620270Z"
        },
        "trusted": true,
        "id": "awYWV879Ka1O"
      },
      "execution_count": null,
      "outputs": []
    },
    {
      "cell_type": "code",
      "source": [
        "meta = meta.rename(columns={'id':'movieId',\n",
        " 'original_title': 'title',\n",
        "'original_language': 'language'})\n",
        "meta\n"
      ],
      "metadata": {
        "execution": {
          "iopub.status.busy": "2022-10-17T07:30:18.624388Z",
          "iopub.execute_input": "2022-10-17T07:30:18.625056Z",
          "iopub.status.idle": "2022-10-17T07:30:18.649153Z",
          "shell.execute_reply.started": "2022-10-17T07:30:18.625013Z",
          "shell.execute_reply": "2022-10-17T07:30:18.647749Z"
        },
        "trusted": true,
        "id": "h0RaB0XFKa1O",
        "outputId": "8849274f-feef-44cb-9311-b46bc0c66952"
      },
      "execution_count": null,
      "outputs": [
        {
          "execution_count": 34,
          "output_type": "execute_result",
          "data": {
            "text/plain": "      movieId                        title language  \\\n0         862                    Toy Story       en   \n1        8844                      Jumanji       en   \n2       15602             Grumpier Old Men       en   \n3       31357            Waiting to Exhale       en   \n4       11862  Father of the Bride Part II       en   \n...       ...                          ...      ...   \n45461  439050                      رگ خواب       fa   \n45462  111109          Siglo ng Pagluluwal       tl   \n45463   67758                     Betrayal       en   \n45464  227506          Satana likuyushchiy       en   \n45465  461257                     Queerama       en   \n\n                                                  genres  \n0      [{'id': 16, 'name': 'Animation'}, {'id': 35, '...  \n1      [{'id': 12, 'name': 'Adventure'}, {'id': 14, '...  \n2      [{'id': 10749, 'name': 'Romance'}, {'id': 35, ...  \n3      [{'id': 35, 'name': 'Comedy'}, {'id': 18, 'nam...  \n4                         [{'id': 35, 'name': 'Comedy'}]  \n...                                                  ...  \n45461  [{'id': 18, 'name': 'Drama'}, {'id': 10751, 'n...  \n45462                      [{'id': 18, 'name': 'Drama'}]  \n45463  [{'id': 28, 'name': 'Action'}, {'id': 18, 'nam...  \n45464                                                 []  \n45465                                                 []  \n\n[45466 rows x 4 columns]",
            "text/html": "<div>\n<style scoped>\n    .dataframe tbody tr th:only-of-type {\n        vertical-align: middle;\n    }\n\n    .dataframe tbody tr th {\n        vertical-align: top;\n    }\n\n    .dataframe thead th {\n        text-align: right;\n    }\n</style>\n<table border=\"1\" class=\"dataframe\">\n  <thead>\n    <tr style=\"text-align: right;\">\n      <th></th>\n      <th>movieId</th>\n      <th>title</th>\n      <th>language</th>\n      <th>genres</th>\n    </tr>\n  </thead>\n  <tbody>\n    <tr>\n      <th>0</th>\n      <td>862</td>\n      <td>Toy Story</td>\n      <td>en</td>\n      <td>[{'id': 16, 'name': 'Animation'}, {'id': 35, '...</td>\n    </tr>\n    <tr>\n      <th>1</th>\n      <td>8844</td>\n      <td>Jumanji</td>\n      <td>en</td>\n      <td>[{'id': 12, 'name': 'Adventure'}, {'id': 14, '...</td>\n    </tr>\n    <tr>\n      <th>2</th>\n      <td>15602</td>\n      <td>Grumpier Old Men</td>\n      <td>en</td>\n      <td>[{'id': 10749, 'name': 'Romance'}, {'id': 35, ...</td>\n    </tr>\n    <tr>\n      <th>3</th>\n      <td>31357</td>\n      <td>Waiting to Exhale</td>\n      <td>en</td>\n      <td>[{'id': 35, 'name': 'Comedy'}, {'id': 18, 'nam...</td>\n    </tr>\n    <tr>\n      <th>4</th>\n      <td>11862</td>\n      <td>Father of the Bride Part II</td>\n      <td>en</td>\n      <td>[{'id': 35, 'name': 'Comedy'}]</td>\n    </tr>\n    <tr>\n      <th>...</th>\n      <td>...</td>\n      <td>...</td>\n      <td>...</td>\n      <td>...</td>\n    </tr>\n    <tr>\n      <th>45461</th>\n      <td>439050</td>\n      <td>رگ خواب</td>\n      <td>fa</td>\n      <td>[{'id': 18, 'name': 'Drama'}, {'id': 10751, 'n...</td>\n    </tr>\n    <tr>\n      <th>45462</th>\n      <td>111109</td>\n      <td>Siglo ng Pagluluwal</td>\n      <td>tl</td>\n      <td>[{'id': 18, 'name': 'Drama'}]</td>\n    </tr>\n    <tr>\n      <th>45463</th>\n      <td>67758</td>\n      <td>Betrayal</td>\n      <td>en</td>\n      <td>[{'id': 28, 'name': 'Action'}, {'id': 18, 'nam...</td>\n    </tr>\n    <tr>\n      <th>45464</th>\n      <td>227506</td>\n      <td>Satana likuyushchiy</td>\n      <td>en</td>\n      <td>[]</td>\n    </tr>\n    <tr>\n      <th>45465</th>\n      <td>461257</td>\n      <td>Queerama</td>\n      <td>en</td>\n      <td>[]</td>\n    </tr>\n  </tbody>\n</table>\n<p>45466 rows × 4 columns</p>\n</div>"
          },
          "metadata": {}
        }
      ]
    },
    {
      "cell_type": "code",
      "source": [
        "meta = meta.loc[meta['language'] == 'en',:]\n",
        "meta\n"
      ],
      "metadata": {
        "execution": {
          "iopub.status.busy": "2022-10-17T07:30:18.650628Z",
          "iopub.execute_input": "2022-10-17T07:30:18.650990Z",
          "iopub.status.idle": "2022-10-17T07:30:18.680448Z",
          "shell.execute_reply.started": "2022-10-17T07:30:18.650956Z",
          "shell.execute_reply": "2022-10-17T07:30:18.679023Z"
        },
        "trusted": true,
        "id": "us9XJ7iCKa1P",
        "outputId": "7f1f7bc5-48b2-4be1-970e-c53ea5568296"
      },
      "execution_count": null,
      "outputs": [
        {
          "execution_count": 35,
          "output_type": "execute_result",
          "data": {
            "text/plain": "      movieId                        title language  \\\n0         862                    Toy Story       en   \n1        8844                      Jumanji       en   \n2       15602             Grumpier Old Men       en   \n3       31357            Waiting to Exhale       en   \n4       11862  Father of the Bride Part II       en   \n...       ...                          ...      ...   \n45459  222848              Caged Heat 3000       en   \n45460   30840                   Robin Hood       en   \n45463   67758                     Betrayal       en   \n45464  227506          Satana likuyushchiy       en   \n45465  461257                     Queerama       en   \n\n                                                  genres  \n0      [{'id': 16, 'name': 'Animation'}, {'id': 35, '...  \n1      [{'id': 12, 'name': 'Adventure'}, {'id': 14, '...  \n2      [{'id': 10749, 'name': 'Romance'}, {'id': 35, ...  \n3      [{'id': 35, 'name': 'Comedy'}, {'id': 18, 'nam...  \n4                         [{'id': 35, 'name': 'Comedy'}]  \n...                                                  ...  \n45459           [{'id': 878, 'name': 'Science Fiction'}]  \n45460  [{'id': 18, 'name': 'Drama'}, {'id': 28, 'name...  \n45463  [{'id': 28, 'name': 'Action'}, {'id': 18, 'nam...  \n45464                                                 []  \n45465                                                 []  \n\n[32269 rows x 4 columns]",
            "text/html": "<div>\n<style scoped>\n    .dataframe tbody tr th:only-of-type {\n        vertical-align: middle;\n    }\n\n    .dataframe tbody tr th {\n        vertical-align: top;\n    }\n\n    .dataframe thead th {\n        text-align: right;\n    }\n</style>\n<table border=\"1\" class=\"dataframe\">\n  <thead>\n    <tr style=\"text-align: right;\">\n      <th></th>\n      <th>movieId</th>\n      <th>title</th>\n      <th>language</th>\n      <th>genres</th>\n    </tr>\n  </thead>\n  <tbody>\n    <tr>\n      <th>0</th>\n      <td>862</td>\n      <td>Toy Story</td>\n      <td>en</td>\n      <td>[{'id': 16, 'name': 'Animation'}, {'id': 35, '...</td>\n    </tr>\n    <tr>\n      <th>1</th>\n      <td>8844</td>\n      <td>Jumanji</td>\n      <td>en</td>\n      <td>[{'id': 12, 'name': 'Adventure'}, {'id': 14, '...</td>\n    </tr>\n    <tr>\n      <th>2</th>\n      <td>15602</td>\n      <td>Grumpier Old Men</td>\n      <td>en</td>\n      <td>[{'id': 10749, 'name': 'Romance'}, {'id': 35, ...</td>\n    </tr>\n    <tr>\n      <th>3</th>\n      <td>31357</td>\n      <td>Waiting to Exhale</td>\n      <td>en</td>\n      <td>[{'id': 35, 'name': 'Comedy'}, {'id': 18, 'nam...</td>\n    </tr>\n    <tr>\n      <th>4</th>\n      <td>11862</td>\n      <td>Father of the Bride Part II</td>\n      <td>en</td>\n      <td>[{'id': 35, 'name': 'Comedy'}]</td>\n    </tr>\n    <tr>\n      <th>...</th>\n      <td>...</td>\n      <td>...</td>\n      <td>...</td>\n      <td>...</td>\n    </tr>\n    <tr>\n      <th>45459</th>\n      <td>222848</td>\n      <td>Caged Heat 3000</td>\n      <td>en</td>\n      <td>[{'id': 878, 'name': 'Science Fiction'}]</td>\n    </tr>\n    <tr>\n      <th>45460</th>\n      <td>30840</td>\n      <td>Robin Hood</td>\n      <td>en</td>\n      <td>[{'id': 18, 'name': 'Drama'}, {'id': 28, 'name...</td>\n    </tr>\n    <tr>\n      <th>45463</th>\n      <td>67758</td>\n      <td>Betrayal</td>\n      <td>en</td>\n      <td>[{'id': 28, 'name': 'Action'}, {'id': 18, 'nam...</td>\n    </tr>\n    <tr>\n      <th>45464</th>\n      <td>227506</td>\n      <td>Satana likuyushchiy</td>\n      <td>en</td>\n      <td>[]</td>\n    </tr>\n    <tr>\n      <th>45465</th>\n      <td>461257</td>\n      <td>Queerama</td>\n      <td>en</td>\n      <td>[]</td>\n    </tr>\n  </tbody>\n</table>\n<p>32269 rows × 4 columns</p>\n</div>"
          },
          "metadata": {}
        }
      ]
    },
    {
      "cell_type": "code",
      "source": [
        "meta.movieId = pd.to_numeric(meta.movieId)\n",
        "meta.movieId\n"
      ],
      "metadata": {
        "execution": {
          "iopub.status.busy": "2022-10-17T07:30:18.682192Z",
          "iopub.execute_input": "2022-10-17T07:30:18.684846Z",
          "iopub.status.idle": "2022-10-17T07:30:18.715497Z",
          "shell.execute_reply.started": "2022-10-17T07:30:18.684791Z",
          "shell.execute_reply": "2022-10-17T07:30:18.714108Z"
        },
        "trusted": true,
        "id": "SDPxjVE4Ka1P",
        "outputId": "c30372a5-d44c-4ec2-ee84-9fb67c729e4f"
      },
      "execution_count": null,
      "outputs": [
        {
          "name": "stderr",
          "text": "/opt/conda/lib/python3.7/site-packages/pandas/core/generic.py:5516: SettingWithCopyWarning: \nA value is trying to be set on a copy of a slice from a DataFrame.\nTry using .loc[row_indexer,col_indexer] = value instead\n\nSee the caveats in the documentation: https://pandas.pydata.org/pandas-docs/stable/user_guide/indexing.html#returning-a-view-versus-a-copy\n  self[name] = value\n",
          "output_type": "stream"
        },
        {
          "execution_count": 36,
          "output_type": "execute_result",
          "data": {
            "text/plain": "0           862\n1          8844\n2         15602\n3         31357\n4         11862\n          ...  \n45459    222848\n45460     30840\n45463     67758\n45464    227506\n45465    461257\nName: movieId, Length: 32269, dtype: int64"
          },
          "metadata": {}
        }
      ]
    },
    {
      "cell_type": "code",
      "source": [
        "#s = \"print(\"helloworld\")\"\n",
        "# eval(s) == 그냥 s수행\n",
        "def str_to_set(x):\n",
        "    genre_set = set()\n",
        "    for item in eval(x):\n",
        "         genre_set.add(item['name'])\n",
        "    return genre_set\n",
        "\n",
        "\n",
        "meta.genres = meta.genres.apply(str_to_set)\n",
        "# genres에 str_to_set 함수를 취한 값\n",
        "meta"
      ],
      "metadata": {
        "execution": {
          "iopub.status.busy": "2022-10-17T07:30:18.717628Z",
          "iopub.execute_input": "2022-10-17T07:30:18.718094Z",
          "iopub.status.idle": "2022-10-17T07:30:19.335473Z",
          "shell.execute_reply.started": "2022-10-17T07:30:18.718049Z",
          "shell.execute_reply": "2022-10-17T07:30:19.334090Z"
        },
        "trusted": true,
        "id": "2ceXA6HhKa1Q",
        "outputId": "4e605776-a0bd-4dc4-8b4a-f7bf150bfc37"
      },
      "execution_count": null,
      "outputs": [
        {
          "execution_count": 37,
          "output_type": "execute_result",
          "data": {
            "text/plain": "       movieId                        title language  \\\n0          862                    Toy Story       en   \n1         8844                      Jumanji       en   \n2        15602             Grumpier Old Men       en   \n3        31357            Waiting to Exhale       en   \n4        11862  Father of the Bride Part II       en   \n...        ...                          ...      ...   \n45459   222848              Caged Heat 3000       en   \n45460    30840                   Robin Hood       en   \n45463    67758                     Betrayal       en   \n45464   227506          Satana likuyushchiy       en   \n45465   461257                     Queerama       en   \n\n                             genres  \n0       {Animation, Comedy, Family}  \n1      {Fantasy, Adventure, Family}  \n2                 {Comedy, Romance}  \n3          {Comedy, Drama, Romance}  \n4                          {Comedy}  \n...                             ...  \n45459             {Science Fiction}  \n45460      {Action, Drama, Romance}  \n45463     {Action, Drama, Thriller}  \n45464                            {}  \n45465                            {}  \n\n[32269 rows x 4 columns]",
            "text/html": "<div>\n<style scoped>\n    .dataframe tbody tr th:only-of-type {\n        vertical-align: middle;\n    }\n\n    .dataframe tbody tr th {\n        vertical-align: top;\n    }\n\n    .dataframe thead th {\n        text-align: right;\n    }\n</style>\n<table border=\"1\" class=\"dataframe\">\n  <thead>\n    <tr style=\"text-align: right;\">\n      <th></th>\n      <th>movieId</th>\n      <th>title</th>\n      <th>language</th>\n      <th>genres</th>\n    </tr>\n  </thead>\n  <tbody>\n    <tr>\n      <th>0</th>\n      <td>862</td>\n      <td>Toy Story</td>\n      <td>en</td>\n      <td>{Animation, Comedy, Family}</td>\n    </tr>\n    <tr>\n      <th>1</th>\n      <td>8844</td>\n      <td>Jumanji</td>\n      <td>en</td>\n      <td>{Fantasy, Adventure, Family}</td>\n    </tr>\n    <tr>\n      <th>2</th>\n      <td>15602</td>\n      <td>Grumpier Old Men</td>\n      <td>en</td>\n      <td>{Comedy, Romance}</td>\n    </tr>\n    <tr>\n      <th>3</th>\n      <td>31357</td>\n      <td>Waiting to Exhale</td>\n      <td>en</td>\n      <td>{Comedy, Drama, Romance}</td>\n    </tr>\n    <tr>\n      <th>4</th>\n      <td>11862</td>\n      <td>Father of the Bride Part II</td>\n      <td>en</td>\n      <td>{Comedy}</td>\n    </tr>\n    <tr>\n      <th>...</th>\n      <td>...</td>\n      <td>...</td>\n      <td>...</td>\n      <td>...</td>\n    </tr>\n    <tr>\n      <th>45459</th>\n      <td>222848</td>\n      <td>Caged Heat 3000</td>\n      <td>en</td>\n      <td>{Science Fiction}</td>\n    </tr>\n    <tr>\n      <th>45460</th>\n      <td>30840</td>\n      <td>Robin Hood</td>\n      <td>en</td>\n      <td>{Action, Drama, Romance}</td>\n    </tr>\n    <tr>\n      <th>45463</th>\n      <td>67758</td>\n      <td>Betrayal</td>\n      <td>en</td>\n      <td>{Action, Drama, Thriller}</td>\n    </tr>\n    <tr>\n      <th>45464</th>\n      <td>227506</td>\n      <td>Satana likuyushchiy</td>\n      <td>en</td>\n      <td>{}</td>\n    </tr>\n    <tr>\n      <th>45465</th>\n      <td>461257</td>\n      <td>Queerama</td>\n      <td>en</td>\n      <td>{}</td>\n    </tr>\n  </tbody>\n</table>\n<p>32269 rows × 4 columns</p>\n</div>"
          },
          "metadata": {}
        }
      ]
    },
    {
      "cell_type": "code",
      "source": [
        "keywords = pd.read_csv( '/kaggle/input/the-movies-dataset/keywords.csv' )\n",
        "keywords\n"
      ],
      "metadata": {
        "execution": {
          "iopub.status.busy": "2022-10-17T07:30:19.336833Z",
          "iopub.execute_input": "2022-10-17T07:30:19.337181Z",
          "iopub.status.idle": "2022-10-17T07:30:19.448336Z",
          "shell.execute_reply.started": "2022-10-17T07:30:19.337149Z",
          "shell.execute_reply": "2022-10-17T07:30:19.447130Z"
        },
        "trusted": true,
        "id": "v-VADnOuKa1R",
        "outputId": "7cf07511-3238-4c24-f535-5abe5e226fd7"
      },
      "execution_count": null,
      "outputs": [
        {
          "execution_count": 38,
          "output_type": "execute_result",
          "data": {
            "text/plain": "           id                                           keywords\n0         862  [{'id': 931, 'name': 'jealousy'}, {'id': 4290,...\n1        8844  [{'id': 10090, 'name': 'board game'}, {'id': 1...\n2       15602  [{'id': 1495, 'name': 'fishing'}, {'id': 12392...\n3       31357  [{'id': 818, 'name': 'based on novel'}, {'id':...\n4       11862  [{'id': 1009, 'name': 'baby'}, {'id': 1599, 'n...\n...       ...                                                ...\n46414  439050             [{'id': 10703, 'name': 'tragic love'}]\n46415  111109  [{'id': 2679, 'name': 'artist'}, {'id': 14531,...\n46416   67758                                                 []\n46417  227506                                                 []\n46418  461257                                                 []\n\n[46419 rows x 2 columns]",
            "text/html": "<div>\n<style scoped>\n    .dataframe tbody tr th:only-of-type {\n        vertical-align: middle;\n    }\n\n    .dataframe tbody tr th {\n        vertical-align: top;\n    }\n\n    .dataframe thead th {\n        text-align: right;\n    }\n</style>\n<table border=\"1\" class=\"dataframe\">\n  <thead>\n    <tr style=\"text-align: right;\">\n      <th></th>\n      <th>id</th>\n      <th>keywords</th>\n    </tr>\n  </thead>\n  <tbody>\n    <tr>\n      <th>0</th>\n      <td>862</td>\n      <td>[{'id': 931, 'name': 'jealousy'}, {'id': 4290,...</td>\n    </tr>\n    <tr>\n      <th>1</th>\n      <td>8844</td>\n      <td>[{'id': 10090, 'name': 'board game'}, {'id': 1...</td>\n    </tr>\n    <tr>\n      <th>2</th>\n      <td>15602</td>\n      <td>[{'id': 1495, 'name': 'fishing'}, {'id': 12392...</td>\n    </tr>\n    <tr>\n      <th>3</th>\n      <td>31357</td>\n      <td>[{'id': 818, 'name': 'based on novel'}, {'id':...</td>\n    </tr>\n    <tr>\n      <th>4</th>\n      <td>11862</td>\n      <td>[{'id': 1009, 'name': 'baby'}, {'id': 1599, 'n...</td>\n    </tr>\n    <tr>\n      <th>...</th>\n      <td>...</td>\n      <td>...</td>\n    </tr>\n    <tr>\n      <th>46414</th>\n      <td>439050</td>\n      <td>[{'id': 10703, 'name': 'tragic love'}]</td>\n    </tr>\n    <tr>\n      <th>46415</th>\n      <td>111109</td>\n      <td>[{'id': 2679, 'name': 'artist'}, {'id': 14531,...</td>\n    </tr>\n    <tr>\n      <th>46416</th>\n      <td>67758</td>\n      <td>[]</td>\n    </tr>\n    <tr>\n      <th>46417</th>\n      <td>227506</td>\n      <td>[]</td>\n    </tr>\n    <tr>\n      <th>46418</th>\n      <td>461257</td>\n      <td>[]</td>\n    </tr>\n  </tbody>\n</table>\n<p>46419 rows × 2 columns</p>\n</div>"
          },
          "metadata": {}
        }
      ]
    },
    {
      "cell_type": "code",
      "source": [
        "keywords.keywords = keywords.keywords.apply(str_to_set)\n",
        "keywords"
      ],
      "metadata": {
        "execution": {
          "iopub.status.busy": "2022-10-17T07:30:19.451277Z",
          "iopub.execute_input": "2022-10-17T07:30:19.451637Z",
          "iopub.status.idle": "2022-10-17T07:30:20.907529Z",
          "shell.execute_reply.started": "2022-10-17T07:30:19.451606Z",
          "shell.execute_reply": "2022-10-17T07:30:20.906383Z"
        },
        "trusted": true,
        "id": "UqC5lZwsKa1S",
        "outputId": "f1d40142-0d5d-4146-d49f-095d05abe6eb"
      },
      "execution_count": null,
      "outputs": [
        {
          "execution_count": 39,
          "output_type": "execute_result",
          "data": {
            "text/plain": "           id                                           keywords\n0         862  {boy next door, toy, friends, rivalry, friends...\n1        8844  {new home, recluse, board game, giant insect, ...\n2       15602  {old men, best friend, fishing, duringcreditss...\n3       31357  {interracial relationship, based on novel, div...\n4       11862  {contraception, daughter, mother daughter rela...\n...       ...                                                ...\n46414  439050                                      {tragic love}\n46415  111109                              {artist, pinoy, play}\n46416   67758                                                 {}\n46417  227506                                                 {}\n46418  461257                                                 {}\n\n[46419 rows x 2 columns]",
            "text/html": "<div>\n<style scoped>\n    .dataframe tbody tr th:only-of-type {\n        vertical-align: middle;\n    }\n\n    .dataframe tbody tr th {\n        vertical-align: top;\n    }\n\n    .dataframe thead th {\n        text-align: right;\n    }\n</style>\n<table border=\"1\" class=\"dataframe\">\n  <thead>\n    <tr style=\"text-align: right;\">\n      <th></th>\n      <th>id</th>\n      <th>keywords</th>\n    </tr>\n  </thead>\n  <tbody>\n    <tr>\n      <th>0</th>\n      <td>862</td>\n      <td>{boy next door, toy, friends, rivalry, friends...</td>\n    </tr>\n    <tr>\n      <th>1</th>\n      <td>8844</td>\n      <td>{new home, recluse, board game, giant insect, ...</td>\n    </tr>\n    <tr>\n      <th>2</th>\n      <td>15602</td>\n      <td>{old men, best friend, fishing, duringcreditss...</td>\n    </tr>\n    <tr>\n      <th>3</th>\n      <td>31357</td>\n      <td>{interracial relationship, based on novel, div...</td>\n    </tr>\n    <tr>\n      <th>4</th>\n      <td>11862</td>\n      <td>{contraception, daughter, mother daughter rela...</td>\n    </tr>\n    <tr>\n      <th>...</th>\n      <td>...</td>\n      <td>...</td>\n    </tr>\n    <tr>\n      <th>46414</th>\n      <td>439050</td>\n      <td>{tragic love}</td>\n    </tr>\n    <tr>\n      <th>46415</th>\n      <td>111109</td>\n      <td>{artist, pinoy, play}</td>\n    </tr>\n    <tr>\n      <th>46416</th>\n      <td>67758</td>\n      <td>{}</td>\n    </tr>\n    <tr>\n      <th>46417</th>\n      <td>227506</td>\n      <td>{}</td>\n    </tr>\n    <tr>\n      <th>46418</th>\n      <td>461257</td>\n      <td>{}</td>\n    </tr>\n  </tbody>\n</table>\n<p>46419 rows × 2 columns</p>\n</div>"
          },
          "metadata": {}
        }
      ]
    },
    {
      "cell_type": "code",
      "source": [
        "keywords = keywords.rename(columns={'id': 'movieId'})\n",
        "keywords.movieId = pd.to_numeric(keywords.movieId)\n",
        "keywords\n"
      ],
      "metadata": {
        "execution": {
          "iopub.status.busy": "2022-10-17T07:30:20.909047Z",
          "iopub.execute_input": "2022-10-17T07:30:20.909924Z",
          "iopub.status.idle": "2022-10-17T07:30:20.929757Z",
          "shell.execute_reply.started": "2022-10-17T07:30:20.909886Z",
          "shell.execute_reply": "2022-10-17T07:30:20.928388Z"
        },
        "trusted": true,
        "id": "_6GO-d0TKa1S",
        "outputId": "3b93933c-2bcf-4f7d-e59c-ad405051682a"
      },
      "execution_count": null,
      "outputs": [
        {
          "execution_count": 40,
          "output_type": "execute_result",
          "data": {
            "text/plain": "       movieId                                           keywords\n0          862  {boy next door, toy, friends, rivalry, friends...\n1         8844  {new home, recluse, board game, giant insect, ...\n2        15602  {old men, best friend, fishing, duringcreditss...\n3        31357  {interracial relationship, based on novel, div...\n4        11862  {contraception, daughter, mother daughter rela...\n...        ...                                                ...\n46414   439050                                      {tragic love}\n46415   111109                              {artist, pinoy, play}\n46416    67758                                                 {}\n46417   227506                                                 {}\n46418   461257                                                 {}\n\n[46419 rows x 2 columns]",
            "text/html": "<div>\n<style scoped>\n    .dataframe tbody tr th:only-of-type {\n        vertical-align: middle;\n    }\n\n    .dataframe tbody tr th {\n        vertical-align: top;\n    }\n\n    .dataframe thead th {\n        text-align: right;\n    }\n</style>\n<table border=\"1\" class=\"dataframe\">\n  <thead>\n    <tr style=\"text-align: right;\">\n      <th></th>\n      <th>movieId</th>\n      <th>keywords</th>\n    </tr>\n  </thead>\n  <tbody>\n    <tr>\n      <th>0</th>\n      <td>862</td>\n      <td>{boy next door, toy, friends, rivalry, friends...</td>\n    </tr>\n    <tr>\n      <th>1</th>\n      <td>8844</td>\n      <td>{new home, recluse, board game, giant insect, ...</td>\n    </tr>\n    <tr>\n      <th>2</th>\n      <td>15602</td>\n      <td>{old men, best friend, fishing, duringcreditss...</td>\n    </tr>\n    <tr>\n      <th>3</th>\n      <td>31357</td>\n      <td>{interracial relationship, based on novel, div...</td>\n    </tr>\n    <tr>\n      <th>4</th>\n      <td>11862</td>\n      <td>{contraception, daughter, mother daughter rela...</td>\n    </tr>\n    <tr>\n      <th>...</th>\n      <td>...</td>\n      <td>...</td>\n    </tr>\n    <tr>\n      <th>46414</th>\n      <td>439050</td>\n      <td>{tragic love}</td>\n    </tr>\n    <tr>\n      <th>46415</th>\n      <td>111109</td>\n      <td>{artist, pinoy, play}</td>\n    </tr>\n    <tr>\n      <th>46416</th>\n      <td>67758</td>\n      <td>{}</td>\n    </tr>\n    <tr>\n      <th>46417</th>\n      <td>227506</td>\n      <td>{}</td>\n    </tr>\n    <tr>\n      <th>46418</th>\n      <td>461257</td>\n      <td>{}</td>\n    </tr>\n  </tbody>\n</table>\n<p>46419 rows × 2 columns</p>\n</div>"
          },
          "metadata": {}
        }
      ]
    },
    {
      "cell_type": "code",
      "source": [
        "meta = pd.merge(meta,keywords,on=\"movieId\",how = \"inner\")\n",
        "# 데베할때 조인과 같아\n",
        "#inner = 양쪽에 모두 있는 값만\n",
        "#outer = 양쪽에 하나라도 있으면, 빈칸은 null값으로\n",
        "#left = 왼쪽에 있는걸 기준으로 왼쪽에 있는거가 오른쪽에 있으면 채우고 아님 말고\n",
        "# 이렇게 되면 길이는 왼쪽에 있는것과 같아진다.\n"
      ],
      "metadata": {
        "execution": {
          "iopub.status.busy": "2022-10-17T07:30:20.931544Z",
          "iopub.execute_input": "2022-10-17T07:30:20.932348Z",
          "iopub.status.idle": "2022-10-17T07:30:20.959925Z",
          "shell.execute_reply.started": "2022-10-17T07:30:20.932264Z",
          "shell.execute_reply": "2022-10-17T07:30:20.958673Z"
        },
        "trusted": true,
        "id": "dhVVC4rkKa1T"
      },
      "execution_count": null,
      "outputs": []
    },
    {
      "cell_type": "code",
      "source": [
        "def jaccard(a,b):\n",
        "    if len(a|b) == 0:\n",
        "        return 0\n",
        "    return len(a&b) / len(a|b)"
      ],
      "metadata": {
        "execution": {
          "iopub.status.busy": "2022-10-17T07:30:20.962356Z",
          "iopub.execute_input": "2022-10-17T07:30:20.963139Z",
          "iopub.status.idle": "2022-10-17T07:30:20.970249Z",
          "shell.execute_reply.started": "2022-10-17T07:30:20.963089Z",
          "shell.execute_reply": "2022-10-17T07:30:20.968982Z"
        },
        "trusted": true,
        "id": "iPDpO3sXKa1T"
      },
      "execution_count": null,
      "outputs": []
    },
    {
      "cell_type": "code",
      "source": [
        "dk = meta.loc[meta['title'] == 'The Dark Knight'].iloc[0]\n",
        "dkr = meta.loc[meta['title'] == 'The Dark Knight Rises'].iloc[0]\n",
        "#loc = 전체에서의 순의\n",
        "#iloc = 상대적인 순위\n",
        "pd.concat([dk,dkr],axis=1).T"
      ],
      "metadata": {
        "execution": {
          "iopub.status.busy": "2022-10-17T07:30:20.971499Z",
          "iopub.execute_input": "2022-10-17T07:30:20.971842Z",
          "iopub.status.idle": "2022-10-17T07:30:21.007323Z",
          "shell.execute_reply.started": "2022-10-17T07:30:20.971812Z",
          "shell.execute_reply": "2022-10-17T07:30:21.006189Z"
        },
        "trusted": true,
        "id": "puMksvzvKa1U",
        "outputId": "a4cad821-d334-4eee-9253-d5332448a14b"
      },
      "execution_count": null,
      "outputs": [
        {
          "execution_count": 43,
          "output_type": "execute_result",
          "data": {
            "text/plain": "      movieId                  title language  \\\n10278     155        The Dark Knight       en   \n14315   49026  The Dark Knight Rises       en   \n\n                                 genres  \\\n10278  {Action, Crime, Drama, Thriller}   \n14315  {Action, Crime, Drama, Thriller}   \n\n                                                keywords  \n10278  {joker, dc comics, based on comic, vigilante, ...  \n14315  {dc comics, cat burglar, vigilante, villainess...  ",
            "text/html": "<div>\n<style scoped>\n    .dataframe tbody tr th:only-of-type {\n        vertical-align: middle;\n    }\n\n    .dataframe tbody tr th {\n        vertical-align: top;\n    }\n\n    .dataframe thead th {\n        text-align: right;\n    }\n</style>\n<table border=\"1\" class=\"dataframe\">\n  <thead>\n    <tr style=\"text-align: right;\">\n      <th></th>\n      <th>movieId</th>\n      <th>title</th>\n      <th>language</th>\n      <th>genres</th>\n      <th>keywords</th>\n    </tr>\n  </thead>\n  <tbody>\n    <tr>\n      <th>10278</th>\n      <td>155</td>\n      <td>The Dark Knight</td>\n      <td>en</td>\n      <td>{Action, Crime, Drama, Thriller}</td>\n      <td>{joker, dc comics, based on comic, vigilante, ...</td>\n    </tr>\n    <tr>\n      <th>14315</th>\n      <td>49026</td>\n      <td>The Dark Knight Rises</td>\n      <td>en</td>\n      <td>{Action, Crime, Drama, Thriller}</td>\n      <td>{dc comics, cat burglar, vigilante, villainess...</td>\n    </tr>\n  </tbody>\n</table>\n</div>"
          },
          "metadata": {}
        }
      ]
    },
    {
      "cell_type": "code",
      "source": [
        "dk_gk = dk.genres|dk.keywords\n",
        "dkr_gk = dkr.genres|dkr.keywords\n",
        "jaccard(dk_gk,dkr_gk)"
      ],
      "metadata": {
        "execution": {
          "iopub.status.busy": "2022-10-17T07:31:56.614569Z",
          "iopub.execute_input": "2022-10-17T07:31:56.614952Z",
          "iopub.status.idle": "2022-10-17T07:31:56.622423Z",
          "shell.execute_reply.started": "2022-10-17T07:31:56.614920Z",
          "shell.execute_reply": "2022-10-17T07:31:56.621129Z"
        },
        "trusted": true,
        "id": "QbQUALExKa1U",
        "outputId": "963c8323-ede5-4996-e03c-c3c735080217"
      },
      "execution_count": null,
      "outputs": [
        {
          "execution_count": 45,
          "output_type": "execute_result",
          "data": {
            "text/plain": "0.37142857142857144"
          },
          "metadata": {}
        }
      ]
    },
    {
      "cell_type": "code",
      "source": [
        "ratings = pd.read_csv( '/kaggle/input/the-movies-dataset/ratings_small.csv' )\n",
        "ratings\n"
      ],
      "metadata": {
        "execution": {
          "iopub.status.busy": "2022-10-17T07:33:12.834061Z",
          "iopub.execute_input": "2022-10-17T07:33:12.834580Z",
          "iopub.status.idle": "2022-10-17T07:33:12.940758Z",
          "shell.execute_reply.started": "2022-10-17T07:33:12.834539Z",
          "shell.execute_reply": "2022-10-17T07:33:12.939513Z"
        },
        "trusted": true,
        "id": "kJXpnhpLKa1V",
        "outputId": "a4204b38-b096-47fa-b77e-3b96b72cd265"
      },
      "execution_count": null,
      "outputs": [
        {
          "execution_count": 46,
          "output_type": "execute_result",
          "data": {
            "text/plain": "        userId  movieId  rating   timestamp\n0            1       31     2.5  1260759144\n1            1     1029     3.0  1260759179\n2            1     1061     3.0  1260759182\n3            1     1129     2.0  1260759185\n4            1     1172     4.0  1260759205\n...        ...      ...     ...         ...\n99999      671     6268     2.5  1065579370\n100000     671     6269     4.0  1065149201\n100001     671     6365     4.0  1070940363\n100002     671     6385     2.5  1070979663\n100003     671     6565     3.5  1074784724\n\n[100004 rows x 4 columns]",
            "text/html": "<div>\n<style scoped>\n    .dataframe tbody tr th:only-of-type {\n        vertical-align: middle;\n    }\n\n    .dataframe tbody tr th {\n        vertical-align: top;\n    }\n\n    .dataframe thead th {\n        text-align: right;\n    }\n</style>\n<table border=\"1\" class=\"dataframe\">\n  <thead>\n    <tr style=\"text-align: right;\">\n      <th></th>\n      <th>userId</th>\n      <th>movieId</th>\n      <th>rating</th>\n      <th>timestamp</th>\n    </tr>\n  </thead>\n  <tbody>\n    <tr>\n      <th>0</th>\n      <td>1</td>\n      <td>31</td>\n      <td>2.5</td>\n      <td>1260759144</td>\n    </tr>\n    <tr>\n      <th>1</th>\n      <td>1</td>\n      <td>1029</td>\n      <td>3.0</td>\n      <td>1260759179</td>\n    </tr>\n    <tr>\n      <th>2</th>\n      <td>1</td>\n      <td>1061</td>\n      <td>3.0</td>\n      <td>1260759182</td>\n    </tr>\n    <tr>\n      <th>3</th>\n      <td>1</td>\n      <td>1129</td>\n      <td>2.0</td>\n      <td>1260759185</td>\n    </tr>\n    <tr>\n      <th>4</th>\n      <td>1</td>\n      <td>1172</td>\n      <td>4.0</td>\n      <td>1260759205</td>\n    </tr>\n    <tr>\n      <th>...</th>\n      <td>...</td>\n      <td>...</td>\n      <td>...</td>\n      <td>...</td>\n    </tr>\n    <tr>\n      <th>99999</th>\n      <td>671</td>\n      <td>6268</td>\n      <td>2.5</td>\n      <td>1065579370</td>\n    </tr>\n    <tr>\n      <th>100000</th>\n      <td>671</td>\n      <td>6269</td>\n      <td>4.0</td>\n      <td>1065149201</td>\n    </tr>\n    <tr>\n      <th>100001</th>\n      <td>671</td>\n      <td>6365</td>\n      <td>4.0</td>\n      <td>1070940363</td>\n    </tr>\n    <tr>\n      <th>100002</th>\n      <td>671</td>\n      <td>6385</td>\n      <td>2.5</td>\n      <td>1070979663</td>\n    </tr>\n    <tr>\n      <th>100003</th>\n      <td>671</td>\n      <td>6565</td>\n      <td>3.5</td>\n      <td>1074784724</td>\n    </tr>\n  </tbody>\n</table>\n<p>100004 rows × 4 columns</p>\n</div>"
          },
          "metadata": {}
        }
      ]
    },
    {
      "cell_type": "code",
      "source": [
        "ratings = pd.merge(ratings,meta[[\"movieId\",\"title\"]],on = \"movieId\",how = \"inner\")"
      ],
      "metadata": {
        "execution": {
          "iopub.status.busy": "2022-10-17T07:40:10.513064Z",
          "iopub.execute_input": "2022-10-17T07:40:10.514142Z",
          "iopub.status.idle": "2022-10-17T07:40:10.541681Z",
          "shell.execute_reply.started": "2022-10-17T07:40:10.514096Z",
          "shell.execute_reply": "2022-10-17T07:40:10.540250Z"
        },
        "trusted": true,
        "id": "tB49kUhCKa1V"
      },
      "execution_count": null,
      "outputs": []
    },
    {
      "cell_type": "markdown",
      "source": [],
      "metadata": {
        "id": "mFZwnhAPKa1W"
      }
    },
    {
      "cell_type": "code",
      "source": [
        "matrix = ratings.pivot_table(index=\"userId\",columns = \"title\", values = 'rating')\n",
        "matrix"
      ],
      "metadata": {
        "execution": {
          "iopub.status.busy": "2022-10-17T07:42:38.536890Z",
          "iopub.execute_input": "2022-10-17T07:42:38.537324Z",
          "iopub.status.idle": "2022-10-17T07:42:38.633645Z",
          "shell.execute_reply.started": "2022-10-17T07:42:38.537274Z",
          "shell.execute_reply": "2022-10-17T07:42:38.632494Z"
        },
        "trusted": true,
        "id": "zxb0H6TAKa1X",
        "outputId": "8db52b36-b25c-462c-abe6-f3993aa2e967"
      },
      "execution_count": null,
      "outputs": [
        {
          "execution_count": 55,
          "output_type": "execute_result",
          "data": {
            "text/plain": "title   !Women Art Revolution  'Gator Bait  'Twas the Night Before Christmas  \\\nuserId                                                                         \n1                         NaN          NaN                               NaN   \n2                         NaN          NaN                               NaN   \n3                         NaN          NaN                               NaN   \n4                         NaN          NaN                               NaN   \n5                         NaN          NaN                               NaN   \n...                       ...          ...                               ...   \n667                       NaN          NaN                               NaN   \n668                       NaN          NaN                               NaN   \n669                       NaN          NaN                               NaN   \n670                       NaN          NaN                               NaN   \n671                       NaN          NaN                               NaN   \n\ntitle   10 Items or Less  10 Things I Hate About You  10,000 BC  \\\nuserId                                                            \n1                    NaN                         NaN        NaN   \n2                    NaN                         NaN        NaN   \n3                    NaN                         NaN        NaN   \n4                    NaN                         NaN        NaN   \n5                    NaN                         NaN        NaN   \n...                  ...                         ...        ...   \n667                  NaN                         NaN        NaN   \n668                  NaN                         NaN        NaN   \n669                  NaN                         NaN        NaN   \n670                  NaN                         NaN        NaN   \n671                  NaN                         NaN        NaN   \n\ntitle   11'09''01 - September 11  12 + 1  12 Angry Men  1408  ...  \\\nuserId                                                        ...   \n1                            NaN     NaN           NaN   NaN  ...   \n2                            NaN     NaN           NaN   NaN  ...   \n3                            NaN     NaN           NaN   NaN  ...   \n4                            NaN     NaN           NaN   NaN  ...   \n5                            NaN     NaN           NaN   NaN  ...   \n...                          ...     ...           ...   ...  ...   \n667                          NaN     NaN           NaN   NaN  ...   \n668                          NaN     NaN           NaN   NaN  ...   \n669                          NaN     NaN           NaN   NaN  ...   \n670                          NaN     NaN           NaN   NaN  ...   \n671                          NaN     NaN           NaN   NaN  ...   \n\ntitle   Young and Innocent  Zaat  Zabriskie Point  Zapped Again!  Zardoz  \\\nuserId                                                                     \n1                      NaN   NaN              NaN            NaN     NaN   \n2                      NaN   NaN              NaN            NaN     NaN   \n3                      3.5   NaN              NaN            NaN     NaN   \n4                      NaN   NaN              NaN            NaN     NaN   \n5                      3.5   NaN              NaN            NaN     NaN   \n...                    ...   ...              ...            ...     ...   \n667                    NaN   NaN              NaN            NaN     NaN   \n668                    NaN   NaN              NaN            NaN     NaN   \n669                    NaN   NaN              NaN            NaN     NaN   \n670                    NaN   NaN              NaN            NaN     NaN   \n671                    4.0   NaN              NaN            NaN     NaN   \n\ntitle   Zodiac  eXistenZ  xXx  ¡Three Amigos!  Мой сводный брат Франкенштейн  \nuserId                                                                        \n1          NaN       NaN  NaN             NaN                            NaN  \n2          NaN       NaN  NaN             NaN                            NaN  \n3          NaN       NaN  NaN             NaN                            NaN  \n4          NaN       NaN  NaN             NaN                            NaN  \n5          NaN       NaN  NaN             NaN                            NaN  \n...        ...       ...  ...             ...                            ...  \n667        NaN       NaN  NaN             NaN                            NaN  \n668        NaN       NaN  NaN             NaN                            NaN  \n669        NaN       NaN  NaN             NaN                            NaN  \n670        NaN       NaN  NaN             NaN                            NaN  \n671        NaN       NaN  NaN             NaN                            NaN  \n\n[671 rows x 2034 columns]",
            "text/html": "<div>\n<style scoped>\n    .dataframe tbody tr th:only-of-type {\n        vertical-align: middle;\n    }\n\n    .dataframe tbody tr th {\n        vertical-align: top;\n    }\n\n    .dataframe thead th {\n        text-align: right;\n    }\n</style>\n<table border=\"1\" class=\"dataframe\">\n  <thead>\n    <tr style=\"text-align: right;\">\n      <th>title</th>\n      <th>!Women Art Revolution</th>\n      <th>'Gator Bait</th>\n      <th>'Twas the Night Before Christmas</th>\n      <th>10 Items or Less</th>\n      <th>10 Things I Hate About You</th>\n      <th>10,000 BC</th>\n      <th>11'09''01 - September 11</th>\n      <th>12 + 1</th>\n      <th>12 Angry Men</th>\n      <th>1408</th>\n      <th>...</th>\n      <th>Young and Innocent</th>\n      <th>Zaat</th>\n      <th>Zabriskie Point</th>\n      <th>Zapped Again!</th>\n      <th>Zardoz</th>\n      <th>Zodiac</th>\n      <th>eXistenZ</th>\n      <th>xXx</th>\n      <th>¡Three Amigos!</th>\n      <th>Мой сводный брат Франкенштейн</th>\n    </tr>\n    <tr>\n      <th>userId</th>\n      <th></th>\n      <th></th>\n      <th></th>\n      <th></th>\n      <th></th>\n      <th></th>\n      <th></th>\n      <th></th>\n      <th></th>\n      <th></th>\n      <th></th>\n      <th></th>\n      <th></th>\n      <th></th>\n      <th></th>\n      <th></th>\n      <th></th>\n      <th></th>\n      <th></th>\n      <th></th>\n      <th></th>\n    </tr>\n  </thead>\n  <tbody>\n    <tr>\n      <th>1</th>\n      <td>NaN</td>\n      <td>NaN</td>\n      <td>NaN</td>\n      <td>NaN</td>\n      <td>NaN</td>\n      <td>NaN</td>\n      <td>NaN</td>\n      <td>NaN</td>\n      <td>NaN</td>\n      <td>NaN</td>\n      <td>...</td>\n      <td>NaN</td>\n      <td>NaN</td>\n      <td>NaN</td>\n      <td>NaN</td>\n      <td>NaN</td>\n      <td>NaN</td>\n      <td>NaN</td>\n      <td>NaN</td>\n      <td>NaN</td>\n      <td>NaN</td>\n    </tr>\n    <tr>\n      <th>2</th>\n      <td>NaN</td>\n      <td>NaN</td>\n      <td>NaN</td>\n      <td>NaN</td>\n      <td>NaN</td>\n      <td>NaN</td>\n      <td>NaN</td>\n      <td>NaN</td>\n      <td>NaN</td>\n      <td>NaN</td>\n      <td>...</td>\n      <td>NaN</td>\n      <td>NaN</td>\n      <td>NaN</td>\n      <td>NaN</td>\n      <td>NaN</td>\n      <td>NaN</td>\n      <td>NaN</td>\n      <td>NaN</td>\n      <td>NaN</td>\n      <td>NaN</td>\n    </tr>\n    <tr>\n      <th>3</th>\n      <td>NaN</td>\n      <td>NaN</td>\n      <td>NaN</td>\n      <td>NaN</td>\n      <td>NaN</td>\n      <td>NaN</td>\n      <td>NaN</td>\n      <td>NaN</td>\n      <td>NaN</td>\n      <td>NaN</td>\n      <td>...</td>\n      <td>3.5</td>\n      <td>NaN</td>\n      <td>NaN</td>\n      <td>NaN</td>\n      <td>NaN</td>\n      <td>NaN</td>\n      <td>NaN</td>\n      <td>NaN</td>\n      <td>NaN</td>\n      <td>NaN</td>\n    </tr>\n    <tr>\n      <th>4</th>\n      <td>NaN</td>\n      <td>NaN</td>\n      <td>NaN</td>\n      <td>NaN</td>\n      <td>NaN</td>\n      <td>NaN</td>\n      <td>NaN</td>\n      <td>NaN</td>\n      <td>NaN</td>\n      <td>NaN</td>\n      <td>...</td>\n      <td>NaN</td>\n      <td>NaN</td>\n      <td>NaN</td>\n      <td>NaN</td>\n      <td>NaN</td>\n      <td>NaN</td>\n      <td>NaN</td>\n      <td>NaN</td>\n      <td>NaN</td>\n      <td>NaN</td>\n    </tr>\n    <tr>\n      <th>5</th>\n      <td>NaN</td>\n      <td>NaN</td>\n      <td>NaN</td>\n      <td>NaN</td>\n      <td>NaN</td>\n      <td>NaN</td>\n      <td>NaN</td>\n      <td>NaN</td>\n      <td>NaN</td>\n      <td>NaN</td>\n      <td>...</td>\n      <td>3.5</td>\n      <td>NaN</td>\n      <td>NaN</td>\n      <td>NaN</td>\n      <td>NaN</td>\n      <td>NaN</td>\n      <td>NaN</td>\n      <td>NaN</td>\n      <td>NaN</td>\n      <td>NaN</td>\n    </tr>\n    <tr>\n      <th>...</th>\n      <td>...</td>\n      <td>...</td>\n      <td>...</td>\n      <td>...</td>\n      <td>...</td>\n      <td>...</td>\n      <td>...</td>\n      <td>...</td>\n      <td>...</td>\n      <td>...</td>\n      <td>...</td>\n      <td>...</td>\n      <td>...</td>\n      <td>...</td>\n      <td>...</td>\n      <td>...</td>\n      <td>...</td>\n      <td>...</td>\n      <td>...</td>\n      <td>...</td>\n      <td>...</td>\n    </tr>\n    <tr>\n      <th>667</th>\n      <td>NaN</td>\n      <td>NaN</td>\n      <td>NaN</td>\n      <td>NaN</td>\n      <td>NaN</td>\n      <td>NaN</td>\n      <td>NaN</td>\n      <td>NaN</td>\n      <td>NaN</td>\n      <td>NaN</td>\n      <td>...</td>\n      <td>NaN</td>\n      <td>NaN</td>\n      <td>NaN</td>\n      <td>NaN</td>\n      <td>NaN</td>\n      <td>NaN</td>\n      <td>NaN</td>\n      <td>NaN</td>\n      <td>NaN</td>\n      <td>NaN</td>\n    </tr>\n    <tr>\n      <th>668</th>\n      <td>NaN</td>\n      <td>NaN</td>\n      <td>NaN</td>\n      <td>NaN</td>\n      <td>NaN</td>\n      <td>NaN</td>\n      <td>NaN</td>\n      <td>NaN</td>\n      <td>NaN</td>\n      <td>NaN</td>\n      <td>...</td>\n      <td>NaN</td>\n      <td>NaN</td>\n      <td>NaN</td>\n      <td>NaN</td>\n      <td>NaN</td>\n      <td>NaN</td>\n      <td>NaN</td>\n      <td>NaN</td>\n      <td>NaN</td>\n      <td>NaN</td>\n    </tr>\n    <tr>\n      <th>669</th>\n      <td>NaN</td>\n      <td>NaN</td>\n      <td>NaN</td>\n      <td>NaN</td>\n      <td>NaN</td>\n      <td>NaN</td>\n      <td>NaN</td>\n      <td>NaN</td>\n      <td>NaN</td>\n      <td>NaN</td>\n      <td>...</td>\n      <td>NaN</td>\n      <td>NaN</td>\n      <td>NaN</td>\n      <td>NaN</td>\n      <td>NaN</td>\n      <td>NaN</td>\n      <td>NaN</td>\n      <td>NaN</td>\n      <td>NaN</td>\n      <td>NaN</td>\n    </tr>\n    <tr>\n      <th>670</th>\n      <td>NaN</td>\n      <td>NaN</td>\n      <td>NaN</td>\n      <td>NaN</td>\n      <td>NaN</td>\n      <td>NaN</td>\n      <td>NaN</td>\n      <td>NaN</td>\n      <td>NaN</td>\n      <td>NaN</td>\n      <td>...</td>\n      <td>NaN</td>\n      <td>NaN</td>\n      <td>NaN</td>\n      <td>NaN</td>\n      <td>NaN</td>\n      <td>NaN</td>\n      <td>NaN</td>\n      <td>NaN</td>\n      <td>NaN</td>\n      <td>NaN</td>\n    </tr>\n    <tr>\n      <th>671</th>\n      <td>NaN</td>\n      <td>NaN</td>\n      <td>NaN</td>\n      <td>NaN</td>\n      <td>NaN</td>\n      <td>NaN</td>\n      <td>NaN</td>\n      <td>NaN</td>\n      <td>NaN</td>\n      <td>NaN</td>\n      <td>...</td>\n      <td>4.0</td>\n      <td>NaN</td>\n      <td>NaN</td>\n      <td>NaN</td>\n      <td>NaN</td>\n      <td>NaN</td>\n      <td>NaN</td>\n      <td>NaN</td>\n      <td>NaN</td>\n      <td>NaN</td>\n    </tr>\n  </tbody>\n</table>\n<p>671 rows × 2034 columns</p>\n</div>"
          },
          "metadata": {}
        }
      ]
    },
    {
      "cell_type": "code",
      "source": [
        "def pearson_similarity(a,b):\n",
        "    a = a - a.mean()\n",
        "    b = b - b.mean()\n",
        "    \n",
        "    denom = ((np.sum(a**2))*(np.sum(b**2)))**0.5\n",
        "    if denom == 0:\n",
        "        return 0\n",
        "    else:\n",
        "        return np.sum(a*b)/denom\n",
        "\n",
        "dk_rating = matrix['The Dark Knight']\n",
        "pk_rating = matrix['Prom Night']\n",
        "pearson_similarity(dk_rating, pk_rating)\n"
      ],
      "metadata": {
        "execution": {
          "iopub.status.busy": "2022-10-17T07:46:56.036406Z",
          "iopub.execute_input": "2022-10-17T07:46:56.036805Z",
          "iopub.status.idle": "2022-10-17T07:46:56.051777Z",
          "shell.execute_reply.started": "2022-10-17T07:46:56.036773Z",
          "shell.execute_reply": "2022-10-17T07:46:56.050577Z"
        },
        "trusted": true,
        "id": "p9q8uIxrKa1X",
        "outputId": "aeb213ea-927e-4c28-effc-2bee90f11949"
      },
      "execution_count": null,
      "outputs": [
        {
          "execution_count": 57,
          "output_type": "execute_result",
          "data": {
            "text/plain": "0.773565934694095"
          },
          "metadata": {}
        }
      ]
    }
  ]
}