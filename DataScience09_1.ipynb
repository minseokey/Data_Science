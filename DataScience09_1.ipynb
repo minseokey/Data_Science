{
  "nbformat": 4,
  "nbformat_minor": 0,
  "metadata": {
    "colab": {
      "provenance": [],
      "collapsed_sections": [],
      "authorship_tag": "ABX9TyOj7dmtT8Meuc5wKZopzNx6",
      "include_colab_link": true
    },
    "kernelspec": {
      "name": "python3",
      "display_name": "Python 3"
    },
    "language_info": {
      "name": "python"
    }
  },
  "cells": [
    {
      "cell_type": "markdown",
      "metadata": {
        "id": "view-in-github",
        "colab_type": "text"
      },
      "source": [
        "<a href=\"https://colab.research.google.com/github/minseokey/Data_Science/blob/main/DataScience09_1.ipynb\" target=\"_parent\"><img src=\"https://colab.research.google.com/assets/colab-badge.svg\" alt=\"Open In Colab\"/></a>"
      ]
    },
    {
      "cell_type": "code",
      "execution_count": null,
      "metadata": {
        "colab": {
          "base_uri": "https://localhost:8080/"
        },
        "id": "oo30dKFL0Y3G",
        "outputId": "5135969e-bb67-4ee2-90f4-3ede41bd92b5"
      },
      "outputs": [
        {
          "output_type": "stream",
          "name": "stdout",
          "text": [
            "Drive already mounted at /content/gdrive/; to attempt to forcibly remount, call drive.mount(\"/content/gdrive/\", force_remount=True).\n"
          ]
        }
      ],
      "source": [
        "from google.colab import drive\n",
        "drive.mount('/content/gdrive/')"
      ]
    },
    {
      "cell_type": "code",
      "source": [
        "import torch\n",
        "import pandas as pd\n",
        "import torch.nn.functional as F\n",
        "import matplotlib.pyplot as plt\n",
        "\n",
        "train = pd.read_csv(\"/content/gdrive/My Drive/ml-100k/ml-100k/ua.base\",sep =\"\\t\",names=['user', 'movie', 'rating', 'timestamp'])\n",
        "\n",
        "test = pd.read_csv(\"/content/gdrive/My Drive/ml-100k/ml-100k/ua.test\", sep=\"\\t\", names=['user', 'movie', 'rating', 'timestamp'])"
      ],
      "metadata": {
        "id": "Y2-TtR3A43Ed"
      },
      "execution_count": null,
      "outputs": []
    },
    {
      "cell_type": "code",
      "source": [
        "items = torch.LongTensor(train['movie'])\n",
        "users = torch.LongTensor(train['user'])\n",
        "ratings = torch.FloatTensor(train['rating'])\n",
        "items_test = torch.LongTensor(test['movie'])\n",
        "users_test = torch.LongTensor(test['user'])\n",
        "ratings_test = torch.FloatTensor(test['rating'])\n",
        "\n",
        "items"
      ],
      "metadata": {
        "colab": {
          "base_uri": "https://localhost:8080/"
        },
        "id": "GYhk2PBR7Mx_",
        "outputId": "18bd9602-4866-4073-fb8c-66bcd4bd6d6b"
      },
      "execution_count": null,
      "outputs": [
        {
          "output_type": "execute_result",
          "data": {
            "text/plain": [
              "tensor([   1,    2,    3,  ..., 1188, 1228, 1330])"
            ]
          },
          "metadata": {},
          "execution_count": 76
        }
      ]
    },
    {
      "cell_type": "code",
      "source": [
        "rank = 15\n",
        "numItems = items.max() + 1\n",
        "numUsers = users.max() + 1\n",
        "P = torch.randn(numItems, rank,requires_grad = True)\n",
        "Q = torch.randn(numUsers, rank, requires_grad = True)\n",
        "\n",
        "P"
      ],
      "metadata": {
        "colab": {
          "base_uri": "https://localhost:8080/"
        },
        "id": "y_poW_QC8R1_",
        "outputId": "fb50637f-2fd3-415c-a9d9-0ee57f79281d"
      },
      "execution_count": null,
      "outputs": [
        {
          "output_type": "execute_result",
          "data": {
            "text/plain": [
              "tensor([[-0.5612, -0.6214, -1.3489,  ...,  1.1534,  0.5167, -1.6426],\n",
              "        [ 0.5822,  0.2702,  0.6737,  ...,  0.0084, -0.7947,  0.4190],\n",
              "        [ 1.1149,  0.3887,  0.1564,  ..., -0.6304, -0.0602, -0.9920],\n",
              "        ...,\n",
              "        [ 1.9175, -2.0427, -0.1187,  ...,  0.1769, -0.0141,  0.2505],\n",
              "        [-1.3599, -1.3117,  0.3829,  ..., -0.9572,  0.0096,  2.1119],\n",
              "        [ 0.7865,  0.9355, -0.7666,  ...,  0.0901,  0.9161, -1.9957]],\n",
              "       requires_grad=True)"
            ]
          },
          "metadata": {},
          "execution_count": 77
        }
      ]
    },
    {
      "cell_type": "code",
      "source": [
        "# optimizer = torch.optim.Adam([P,Q],lr = 0.1)\n",
        "# X = []\n",
        "# Y = []\n",
        "# for epoch in range(1000):\n",
        "#   hypothesis = torch.sum(P[items]*Q[users],dim = 1)\n",
        "#   cost = F.mse_loss(hypothesis,ratings)\n",
        "\n",
        "#   optimizer.zero_grad()\n",
        "#   cost.backward()\n",
        "#   optimizer.step()\n",
        "\n",
        "#   X.append(epoch)\n",
        "#   Y.append(cost.item())\n",
        "\n",
        "#   if epoch % 100 == 0:\n",
        "#     print(\"epoch: {}, cost: {:.6f}\" .format(epoch, cost.item()))\n"
      ],
      "metadata": {
        "id": "x1fiOuHq8HK-"
      },
      "execution_count": null,
      "outputs": []
    },
    {
      "cell_type": "code",
      "source": [
        "# plt.ylabel(\"MSE\")\n",
        "# plt.xlabel(\"Epoch\")\n",
        "# plt.plot(X,Y, c=\"blue\", label=\"Training MSE\")\n",
        "# plt.legend()\n",
        "# plt.show()\n"
      ],
      "metadata": {
        "id": "K8zXiL0SAM25"
      },
      "execution_count": null,
      "outputs": []
    },
    {
      "cell_type": "code",
      "source": [
        "optimizer = torch.optim.Adam([P,Q],lr = 0.1)\n",
        "X = []\n",
        "Y = []\n",
        "Y_test = []\n",
        "for epoch in range(1000):\n",
        "  hypothesis = torch.sum(P[items]*Q[users],dim = 1)\n",
        "  cost = F.mse_loss(hypothesis,ratings)\n",
        "\n",
        "  optimizer.zero_grad()\n",
        "  cost.backward()\n",
        "  optimizer.step()\n",
        "\n",
        "  X.append(epoch)\n",
        "  Y.append(cost.item())\n",
        "  with torch.no_grad():\n",
        "    hypo_test = torch.sum(P[items_test] * Q[users_test], dim=1)\n",
        "    cost_test = F.mse_loss(hypo_test, ratings_test)\n",
        "    Y_test.append(cost_test.item())\n",
        "\n",
        "\n",
        "  if epoch % 100 == 0:\n",
        "    print(\"epoch: {}, cost: {:.6f}, cost_test: {:.6f}\" .format(epoch, cost.item(),cost_test.item()))\n"
      ],
      "metadata": {
        "colab": {
          "base_uri": "https://localhost:8080/"
        },
        "id": "w8Kzxc5pA-ow",
        "outputId": "22f520f0-1fd0-4ebe-bd3d-6d5842cda758"
      },
      "execution_count": null,
      "outputs": [
        {
          "output_type": "stream",
          "name": "stdout",
          "text": [
            "epoch: 0, cost: 28.765184, cost_test: 25.772005\n",
            "epoch: 100, cost: 0.484921, cost_test: 2.017033\n",
            "epoch: 200, cost: 0.402125, cost_test: 2.523036\n",
            "epoch: 300, cost: 0.373891, cost_test: 3.037349\n",
            "epoch: 400, cost: 0.360657, cost_test: 3.533766\n",
            "epoch: 500, cost: 0.352935, cost_test: 4.051619\n",
            "epoch: 600, cost: 0.347709, cost_test: 4.634455\n",
            "epoch: 700, cost: 0.344001, cost_test: 5.239145\n",
            "epoch: 800, cost: 0.341267, cost_test: 5.834822\n",
            "epoch: 900, cost: 0.339086, cost_test: 6.478315\n"
          ]
        }
      ]
    },
    {
      "cell_type": "code",
      "source": [
        "plt.ylabel(\"MSE\")\n",
        "plt.xlabel(\"Epoch\")\n",
        "plt.plot(X,Y, c=\"blue\", label=\"Training MSE\")\n",
        "plt.plot(X,Y_test, c=\"red\", label=\"Test MSE\")\n",
        "plt.legend()\n",
        "plt.show()"
      ],
      "metadata": {
        "colab": {
          "base_uri": "https://localhost:8080/",
          "height": 282
        },
        "id": "oHimxyM2BV8h",
        "outputId": "c09c561e-9d6a-461c-dc40-2ca23fbe8a64"
      },
      "execution_count": null,
      "outputs": [
        {
          "output_type": "display_data",
          "data": {
            "text/plain": [
              "<Figure size 432x288 with 1 Axes>"
            ],
            "image/png": "[encoded data removed]"
          },
          "metadata": {
            "needs_background": "light"
          }
        }
      ]
    },
    {
      "cell_type": "code",
      "source": [
        "lambda1 = 0.0001\n",
        "lambda2 = 0.0001\n",
        "optimizer = torch.optim.Adam([P,Q],lr = 0.1)\n",
        "X = []\n",
        "Y = []\n",
        "Y_test = []\n",
        "for epoch in range(1000):\n",
        " hypothesis = torch.sum(P[items] * Q[users], dim=1)\n",
        " cost = F.mse_loss(hypothesis ,ratings)\n",
        " loss = cost + lambda1 * torch.sum(P ** 2) + lambda2 * torch.sum(Q ** 2)\n",
        " optimizer.zero_grad()\n",
        " loss.backward()\n",
        " optimizer.step()\n",
        "\n",
        " X.append(epoch)\n",
        " Y.append(cost.item())\n",
        " \n",
        " with torch.no_grad():\n",
        "  hypo_test = torch.sum(P[items_test] * Q[users_test], dim=1)\n",
        "  cost_test = F.mse_loss(hypo_test, ratings_test)\n",
        "  Y_test.append(cost_test.item())\n",
        " \n",
        " if epoch % 100 == 0:\n",
        "    print(\"epoch: {}, cost: {:.6f}, cost_test: {:.6f}\" .format(epoch, cost.item(),cost_test.item()))\n"
      ],
      "metadata": {
        "colab": {
          "base_uri": "https://localhost:8080/"
        },
        "id": "kSnsSEAVC1rY",
        "outputId": "10fe6b1e-f9ae-4550-855f-36b15abbe5f8"
      },
      "execution_count": null,
      "outputs": [
        {
          "output_type": "stream",
          "name": "stdout",
          "text": [
            "epoch: 0, cost: 28.907454\n",
            "epoch: 100, cost: 0.637389\n",
            "epoch: 200, cost: 0.577339\n",
            "epoch: 300, cost: 0.566270\n",
            "epoch: 400, cost: 0.561945\n",
            "epoch: 500, cost: 0.559692\n",
            "epoch: 600, cost: 0.558428\n",
            "epoch: 700, cost: 0.557753\n",
            "epoch: 800, cost: 0.557154\n",
            "epoch: 900, cost: 0.556485\n"
          ]
        }
      ]
    },
    {
      "cell_type": "code",
      "source": [
        "plt.ylabel(\"MSE\")\n",
        "plt.xlabel(\"Epoch\")\n",
        "plt.plot(X,Y, c=\"blue\", label=\"Training MSE\")\n",
        "plt.plot(X,Y_test, c=\"red\", label=\"Test MSE\")\n",
        "plt.legend()\n",
        "plt.show()"
      ],
      "metadata": {
        "colab": {
          "base_uri": "https://localhost:8080/",
          "height": 281
        },
        "id": "B-eC383WEFwv",
        "outputId": "c7570a82-f12b-4df5-ac83-a01d32c32576"
      },
      "execution_count": null,
      "outputs": [
        {
          "output_type": "display_data",
          "data": {
            "text/plain": [
              "<Figure size 432x288 with 1 Axes>"
            ],
            "image/png": "[encoded data removed]"
          },
          "metadata": {
            "needs_background": "light"
          }
        }
      ]
    },
    {
      "cell_type": "code",
      "source": [
        "lambda1 = 0.0001\n",
        "lambda2 = 0.0001\n",
        "lambda3 = 0.0001\n",
        "lambda4 = 0.0001\n",
        "bias_item = torch.randn(numItems, requires_grad=True)\n",
        "bias_user = torch.randn(numUsers, requires_grad=True)\n",
        "mean = (ratings.sum() / len(ratings)).item()\n",
        "\n",
        "optimizer = torch.optim.Adam([P,Q,bias_item,bias_user],lr = 0.1)\n",
        "X = []\n",
        "Y = []\n",
        "Y_test = []\n",
        "\n",
        "for epoch in range(1000):\n",
        " hypothesis = torch.sum(P[items] * Q[users], dim=1) + mean + bias_item[items] + bias_user[users]\n",
        " cost = F.mse_loss(hypothesis ,ratings)\n",
        " \n",
        " loss = cost + lambda1 * torch.sum(P ** 2) + lambda2 * torch.sum(Q ** 2) + lambda3 * torch.sum(bias_item ** 2) + lambda4 * torch.sum(bias_user ** 2)\n",
        " \n",
        " optimizer.zero_grad()\n",
        " loss.backward()\n",
        " optimizer.step()\n",
        " \n",
        " X.append(epoch)\n",
        " Y.append(cost.item())\n",
        " \n",
        " with torch.no_grad():\n",
        "  hypo_test = torch.sum(P[items_test] * Q[users_test], dim=1) + mean + bias_item[items_test] + bias_user[users_test]\n",
        "  cost_test = F.mse_loss(hypo_test, ratings_test)\n",
        "  Y_test.append(cost_test.item())\n",
        " \n",
        " if epoch % 100 == 0:\n",
        "    print(\"epoch: {}, cost: {:.6f}, cost_test: {:.6f}\" .format(epoch, cost.item(),cost_test.item()))"
      ],
      "metadata": {
        "colab": {
          "base_uri": "https://localhost:8080/"
        },
        "id": "iGn-T5QCEKUb",
        "outputId": "f76754d0-7d88-4665-c225-acbb96e370b6"
      },
      "execution_count": null,
      "outputs": [
        {
          "output_type": "stream",
          "name": "stdout",
          "text": [
            "epoch: 0, cost: 18.161573, cost_test: 13.926003\n",
            "epoch: 100, cost: 0.555528, cost_test: 0.884795\n",
            "epoch: 200, cost: 0.520354, cost_test: 0.880566\n",
            "epoch: 300, cost: 0.513699, cost_test: 0.877865\n",
            "epoch: 400, cost: 0.511951, cost_test: 0.877465\n",
            "epoch: 500, cost: 0.511368, cost_test: 0.877688\n",
            "epoch: 600, cost: 0.510884, cost_test: 0.878224\n",
            "epoch: 700, cost: 0.510488, cost_test: 0.878659\n",
            "epoch: 800, cost: 0.510250, cost_test: 0.878775\n",
            "epoch: 900, cost: 0.510114, cost_test: 0.878683\n"
          ]
        }
      ]
    },
    {
      "cell_type": "code",
      "source": [
        "plt.ylabel(\"MSE\")\n",
        "plt.xlabel(\"Epoch\")\n",
        "plt.plot(X,Y, c=\"blue\", label=\"Training MSE\")\n",
        "plt.plot(X,Y_test, c=\"red\", label=\"Test MSE\")\n",
        "plt.legend()\n",
        "plt.show()"
      ],
      "metadata": {
        "colab": {
          "base_uri": "https://localhost:8080/",
          "height": 279
        },
        "id": "U692SgGgEweY",
        "outputId": "23b12b39-f1a1-479f-a72e-f27d906b5fb8"
      },
      "execution_count": null,
      "outputs": [
        {
          "output_type": "display_data",
          "data": {
            "text/plain": [
              "<Figure size 432x288 with 1 Axes>"
            ],
            "image/png": "[encoded data removed]"
          },
          "metadata": {
            "needs_background": "light"
          }
        }
      ]
    }
  ]
}