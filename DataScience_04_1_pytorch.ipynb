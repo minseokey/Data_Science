{
  "nbformat": 4,
  "nbformat_minor": 0,
  "metadata": {
    "colab": {
      "provenance": [],
      "collapsed_sections": [],
      "authorship_tag": "ABX9TyOW28/lcQ24rs1lELJGbEC5",
      "include_colab_link": true
    },
    "kernelspec": {
      "name": "python3",
      "display_name": "Python 3"
    },
    "language_info": {
      "name": "python"
    }
  },
  "cells": [
    {
      "cell_type": "markdown",
      "metadata": {
        "id": "view-in-github",
        "colab_type": "text"
      },
      "source": [
        "<a href=\"https://colab.research.google.com/github/minseokey/Data_Science/blob/main/DataScience_04_1_pytorch.ipynb\" target=\"_parent\"><img src=\"https://colab.research.google.com/assets/colab-badge.svg\" alt=\"Open In Colab\"/></a>"
      ]
    },
    {
      "cell_type": "markdown",
      "source": [],
      "metadata": {
        "id": "mdIxlkNFgctb"
      }
    },
    {
      "cell_type": "code",
      "source": [
        "import torch\n",
        "x = torch.tensor([[1,2,3], [4,5,6], [7,8,9]])\n",
        "y = torch.FloatTensor([[1,2,3], [4,5,6], [7,8,9]])\n",
        "print(\"x =\", x)\n",
        "print(\"y =\", y)\n",
        "\n",
        "print(\"Size:\", x.size())\n",
        "print(\"Shape:\", x.shape)\n",
        "print(\"차원(랭크):\", x.ndimension())\n",
        "\n",
        "x0 = torch.unsqueeze(x, 0)\n",
        "x1 = torch.unsqueeze(x, 1)\n",
        "x2 = torch.unsqueeze(x, 2)\n",
        "print(\"x0.shape:\", x0.shape)\n",
        "print(\"x1.shape:\", x1.shape)\n",
        "print(\"x2.shape:\", x2.shape)\n",
        "print(\"x0 =\", x0)\n",
        "print(\"x1 =\", x1)\n",
        "print(\"x2 =\", x2)\n",
        "\n",
        "x3 = torch.squeeze(torch.squeeze(x0))\n",
        "print(\"x3 =\", x3)\n",
        "print(\"x3.shape =\", x3.shape)\n",
        "\n",
        "x4 = x.view(9)\n",
        "x5 = x.view(1,3,3)\n",
        "print(\"x4 =\", x4)\n",
        "print(\"x5 =\", x5)\n"
      ],
      "metadata": {
        "colab": {
          "base_uri": "https://localhost:8080/"
        },
        "id": "ps7EPttjsiWd",
        "outputId": "6f0a0d03-a716-4b2c-9d30-5a89a8e800f7"
      },
      "execution_count": null,
      "outputs": [
        {
          "output_type": "stream",
          "name": "stdout",
          "text": [
            "x = tensor([[1, 2, 3],\n",
            "        [4, 5, 6],\n",
            "        [7, 8, 9]])\n",
            "y = tensor([[1., 2., 3.],\n",
            "        [4., 5., 6.],\n",
            "        [7., 8., 9.]])\n",
            "Size: torch.Size([3, 3])\n",
            "Shape: torch.Size([3, 3])\n",
            "차원(랭크): 2\n",
            "x0.shape: torch.Size([1, 3, 3])\n",
            "x1.shape: torch.Size([3, 1, 3])\n",
            "x2.shape: torch.Size([3, 3, 1])\n",
            "x0 = tensor([[[1, 2, 3],\n",
            "         [4, 5, 6],\n",
            "         [7, 8, 9]]])\n",
            "x1 = tensor([[[1, 2, 3]],\n",
            "\n",
            "        [[4, 5, 6]],\n",
            "\n",
            "        [[7, 8, 9]]])\n",
            "x2 = tensor([[[1],\n",
            "         [2],\n",
            "         [3]],\n",
            "\n",
            "        [[4],\n",
            "         [5],\n",
            "         [6]],\n",
            "\n",
            "        [[7],\n",
            "         [8],\n",
            "         [9]]])\n",
            "x3 = tensor([[1, 2, 3],\n",
            "        [4, 5, 6],\n",
            "        [7, 8, 9]])\n",
            "x3.shape = torch.Size([3, 3])\n",
            "x4 = tensor([1, 2, 3, 4, 5, 6, 7, 8, 9])\n",
            "x5 = tensor([[[1, 2, 3],\n",
            "         [4, 5, 6],\n",
            "         [7, 8, 9]]])\n"
          ]
        }
      ]
    },
    {
      "cell_type": "code",
      "source": [
        "import torch\n",
        "x = torch.FloatTensor([[1,2],[3,4],[5,6]])\n",
        "w = torch.randn(1,2,dtype=torch.float)\n",
        "b = torch.randn(3,1,dtype=torch.float)\n",
        "print(w)\n",
        "print(b)\n",
        "result = torch.mm(x,torch.t(w)) +b  #xw +b\n",
        "print(result)"
      ],
      "metadata": {
        "colab": {
          "base_uri": "https://localhost:8080/"
        },
        "id": "w4rMDnJygPQj",
        "outputId": "74c0f392-9753-486a-f9d7-060736f7cfbc"
      },
      "execution_count": null,
      "outputs": [
        {
          "output_type": "stream",
          "name": "stdout",
          "text": [
            "tensor([[ 1.2038, -0.4189]])\n",
            "tensor([[ 0.0914],\n",
            "        [-0.4350],\n",
            "        [-1.1770]])\n",
            "tensor([[0.4573],\n",
            "        [1.5007],\n",
            "        [2.3285]])\n"
          ]
        }
      ]
    },
    {
      "cell_type": "code",
      "source": [
        "import torch\n",
        "w = torch.tensor(5.0 ,requires_grad = True)\n",
        "l = (w**3 * 3) +(4*w) + 7\n",
        "l.backward()\n",
        "print(w.grad)"
      ],
      "metadata": {
        "colab": {
          "base_uri": "https://localhost:8080/"
        },
        "id": "mCqYcOFqpPY2",
        "outputId": "f799b2ab-a7b2-4f15-cdcd-091f0451fdeb"
      },
      "execution_count": null,
      "outputs": [
        {
          "output_type": "stream",
          "name": "stdout",
          "text": [
            "tensor(229.)\n"
          ]
        }
      ]
    },
    {
      "cell_type": "code",
      "source": [
        "import torch\n",
        "x_train = torch.FloatTensor([[1,2], [3,2], [3,7], [1,1], [1,0]])\n",
        "y_train = torch.FloatTensor([[4], [8], [23], [1], [-2]])\n",
        "\n",
        "lr = 0.001\n",
        "\n",
        "w = torch.randn(2,1)\n",
        "b = torch.randn(1)\n",
        "\n",
        "for epoch in range(10000):\n",
        "\n",
        "  w.requires_grad_(True)\n",
        "  b.requires_grad_(True)\n",
        "\n",
        "  h = torch.mm(x_train,w)+b\n",
        "  cost = torch.mean((y_train-h) **2)     # 가설과 현재값의 차이\n",
        "\n",
        "  cost.backward()\n",
        "  with torch.no_grad():\n",
        "    w = w - lr* w.grad     #update\n",
        "    b = b - lr* b.grad\n",
        "\n",
        "    if epoch % 100 == 0:\n",
        "      print( 'epoch: {}, cost: {:.6f}, W: {}, b: {}'.format(epoch, \n",
        "      cost.item(), w.squeeze(), b))\n",
        "\n",
        "\n",
        "\n"
      ],
      "metadata": {
        "colab": {
          "base_uri": "https://localhost:8080/"
        },
        "id": "RNcoyyv9rydW",
        "outputId": "40e27f30-9af0-46a2-dbc0-0c5093dad56c"
      },
      "execution_count": null,
      "outputs": [
        {
          "output_type": "stream",
          "name": "stdout",
          "text": [
            "epoch: 0, cost: 201.696182, W: tensor([-1.1326,  0.0820]), b: tensor([-1.3396])\n",
            "epoch: 100, cost: 2.628255, W: tensor([0.4496, 2.9603]), b: tensor([-0.8306])\n",
            "epoch: 200, cost: 2.056056, W: tensor([0.5121, 3.1166]), b: tensor([-0.9441])\n",
            "epoch: 300, cost: 1.878457, W: tensor([0.5202, 3.1493]), b: tensor([-1.0728])\n",
            "epoch: 400, cost: 1.728564, W: tensor([0.5338, 3.1700]), b: tensor([-1.1925])\n",
            "epoch: 500, cost: 1.598504, W: tensor([0.5536, 3.1849]), b: tensor([-1.3037])\n",
            "epoch: 600, cost: 1.483428, W: tensor([0.5782, 3.1954]), b: tensor([-1.4076])\n",
            "epoch: 700, cost: 1.380055, W: tensor([0.6064, 3.2023]), b: tensor([-1.5049])\n",
            "epoch: 800, cost: 1.286124, W: tensor([0.6372, 3.2064]), b: tensor([-1.5967])\n",
            "epoch: 900, cost: 1.200049, W: tensor([0.6699, 3.2083]), b: tensor([-1.6834])\n",
            "epoch: 1000, cost: 1.120689, W: tensor([0.7038, 3.2085]), b: tensor([-1.7658])\n",
            "epoch: 1100, cost: 1.047198, W: tensor([0.7384, 3.2073]), b: tensor([-1.8441])\n",
            "epoch: 1200, cost: 0.978931, W: tensor([0.7734, 3.2050]), b: tensor([-1.9189])\n",
            "epoch: 1300, cost: 0.915378, W: tensor([0.8085, 3.2020]), b: tensor([-1.9904])\n",
            "epoch: 1400, cost: 0.856121, W: tensor([0.8434, 3.1983]), b: tensor([-2.0589])\n",
            "epoch: 1500, cost: 0.800812, W: tensor([0.8780, 3.1942]), b: tensor([-2.1246])\n",
            "epoch: 1600, cost: 0.749149, W: tensor([0.9120, 3.1898]), b: tensor([-2.1877])\n",
            "epoch: 1700, cost: 0.700866, W: tensor([0.9455, 3.1851]), b: tensor([-2.2484])\n",
            "epoch: 1800, cost: 0.655725, W: tensor([0.9782, 3.1803]), b: tensor([-2.3068])\n",
            "epoch: 1900, cost: 0.613511, W: tensor([1.0103, 3.1754]), b: tensor([-2.3631])\n",
            "epoch: 2000, cost: 0.574027, W: tensor([1.0415, 3.1705]), b: tensor([-2.4174])\n",
            "epoch: 2100, cost: 0.537094, W: tensor([1.0720, 3.1655]), b: tensor([-2.4698])\n",
            "epoch: 2200, cost: 0.502542, W: tensor([1.1016, 3.1606]), b: tensor([-2.5203])\n",
            "epoch: 2300, cost: 0.470217, W: tensor([1.1304, 3.1558]), b: tensor([-2.5690])\n",
            "epoch: 2400, cost: 0.439972, W: tensor([1.1583, 3.1511]), b: tensor([-2.6161])\n",
            "epoch: 2500, cost: 0.411676, W: tensor([1.1855, 3.1464]), b: tensor([-2.6616])\n",
            "epoch: 2600, cost: 0.385199, W: tensor([1.2118, 3.1418]), b: tensor([-2.7056])\n",
            "epoch: 2700, cost: 0.360427, W: tensor([1.2373, 3.1374]), b: tensor([-2.7481])\n",
            "epoch: 2800, cost: 0.337247, W: tensor([1.2620, 3.1330]), b: tensor([-2.7891])\n",
            "epoch: 2900, cost: 0.315558, W: tensor([1.2860, 3.1288]), b: tensor([-2.8288])\n",
            "epoch: 3000, cost: 0.295265, W: tensor([1.3092, 3.1247]), b: tensor([-2.8672])\n",
            "epoch: 3100, cost: 0.276277, W: tensor([1.3317, 3.1207]), b: tensor([-2.9043])\n",
            "epoch: 3200, cost: 0.258510, W: tensor([1.3535, 3.1168]), b: tensor([-2.9402])\n",
            "epoch: 3300, cost: 0.241885, W: tensor([1.3745, 3.1130]), b: tensor([-2.9749])\n",
            "epoch: 3400, cost: 0.226330, W: tensor([1.3949, 3.1094]), b: tensor([-3.0084])\n",
            "epoch: 3500, cost: 0.211775, W: tensor([1.4146, 3.1058]), b: tensor([-3.0409])\n",
            "epoch: 3600, cost: 0.198156, W: tensor([1.4337, 3.1024]), b: tensor([-3.0722])\n",
            "epoch: 3700, cost: 0.185413, W: tensor([1.4522, 3.0991]), b: tensor([-3.1026])\n",
            "epoch: 3800, cost: 0.173489, W: tensor([1.4701, 3.0958]), b: tensor([-3.1319])\n",
            "epoch: 3900, cost: 0.162333, W: tensor([1.4874, 3.0927]), b: tensor([-3.1603])\n",
            "epoch: 4000, cost: 0.151893, W: tensor([1.5042, 3.0897]), b: tensor([-3.1878])\n",
            "epoch: 4100, cost: 0.142125, W: tensor([1.5203, 3.0868]), b: tensor([-3.2143])\n",
            "epoch: 4200, cost: 0.132985, W: tensor([1.5360, 3.0840]), b: tensor([-3.2400])\n",
            "epoch: 4300, cost: 0.124433, W: tensor([1.5512, 3.0812]), b: tensor([-3.2649])\n",
            "epoch: 4400, cost: 0.116431, W: tensor([1.5658, 3.0786]), b: tensor([-3.2889])\n",
            "epoch: 4500, cost: 0.108943, W: tensor([1.5800, 3.0760]), b: tensor([-3.3122])\n",
            "epoch: 4600, cost: 0.101937, W: tensor([1.5938, 3.0735]), b: tensor([-3.3346])\n",
            "epoch: 4700, cost: 0.095382, W: tensor([1.6070, 3.0711]), b: tensor([-3.3564])\n",
            "epoch: 4800, cost: 0.089248, W: tensor([1.6199, 3.0688]), b: tensor([-3.3774])\n",
            "epoch: 4900, cost: 0.083509, W: tensor([1.6323, 3.0666]), b: tensor([-3.3978])\n",
            "epoch: 5000, cost: 0.078139, W: tensor([1.6443, 3.0644]), b: tensor([-3.4175])\n",
            "epoch: 5100, cost: 0.073114, W: tensor([1.6559, 3.0623]), b: tensor([-3.4365])\n",
            "epoch: 5200, cost: 0.068412, W: tensor([1.6672, 3.0602]), b: tensor([-3.4549])\n",
            "epoch: 5300, cost: 0.064012, W: tensor([1.6781, 3.0583]), b: tensor([-3.4728])\n",
            "epoch: 5400, cost: 0.059896, W: tensor([1.6886, 3.0564]), b: tensor([-3.4900])\n",
            "epoch: 5500, cost: 0.056044, W: tensor([1.6988, 3.0545]), b: tensor([-3.5067])\n",
            "epoch: 5600, cost: 0.052440, W: tensor([1.7086, 3.0527]), b: tensor([-3.5228])\n",
            "epoch: 5700, cost: 0.049068, W: tensor([1.7181, 3.0510]), b: tensor([-3.5384])\n",
            "epoch: 5800, cost: 0.045912, W: tensor([1.7273, 3.0494]), b: tensor([-3.5535])\n",
            "epoch: 5900, cost: 0.042960, W: tensor([1.7363, 3.0477]), b: tensor([-3.5681])\n",
            "epoch: 6000, cost: 0.040197, W: tensor([1.7449, 3.0462]), b: tensor([-3.5822])\n",
            "epoch: 6100, cost: 0.037612, W: tensor([1.7532, 3.0447]), b: tensor([-3.5959])\n",
            "epoch: 6200, cost: 0.035193, W: tensor([1.7613, 3.0432]), b: tensor([-3.6091])\n",
            "epoch: 6300, cost: 0.032930, W: tensor([1.7691, 3.0418]), b: tensor([-3.6218])\n",
            "epoch: 6400, cost: 0.030813, W: tensor([1.7766, 3.0404]), b: tensor([-3.6342])\n",
            "epoch: 6500, cost: 0.028831, W: tensor([1.7839, 3.0391]), b: tensor([-3.6462])\n",
            "epoch: 6600, cost: 0.026977, W: tensor([1.7910, 3.0378]), b: tensor([-3.6577])\n",
            "epoch: 6700, cost: 0.025242, W: tensor([1.7978, 3.0366]), b: tensor([-3.6689])\n",
            "epoch: 6800, cost: 0.023619, W: tensor([1.8044, 3.0354]), b: tensor([-3.6797])\n",
            "epoch: 6900, cost: 0.022100, W: tensor([1.8108, 3.0342]), b: tensor([-3.6902])\n",
            "epoch: 7000, cost: 0.020679, W: tensor([1.8170, 3.0331]), b: tensor([-3.7003])\n",
            "epoch: 7100, cost: 0.019349, W: tensor([1.8230, 3.0320]), b: tensor([-3.7101])\n",
            "epoch: 7200, cost: 0.018105, W: tensor([1.8288, 3.0310]), b: tensor([-3.7196])\n",
            "epoch: 7300, cost: 0.016941, W: tensor([1.8344, 3.0300]), b: tensor([-3.7288])\n",
            "epoch: 7400, cost: 0.015851, W: tensor([1.8398, 3.0290]), b: tensor([-3.7376])\n",
            "epoch: 7500, cost: 0.014832, W: tensor([1.8450, 3.0281]), b: tensor([-3.7462])\n",
            "epoch: 7600, cost: 0.013878, W: tensor([1.8501, 3.0271]), b: tensor([-3.7545])\n",
            "epoch: 7700, cost: 0.012986, W: tensor([1.8550, 3.0262]), b: tensor([-3.7625])\n",
            "epoch: 7800, cost: 0.012151, W: tensor([1.8597, 3.0254]), b: tensor([-3.7703])\n",
            "epoch: 7900, cost: 0.011369, W: tensor([1.8643, 3.0246]), b: tensor([-3.7778])\n",
            "epoch: 8000, cost: 0.010638, W: tensor([1.8688, 3.0238]), b: tensor([-3.7851])\n",
            "epoch: 8100, cost: 0.009954, W: tensor([1.8730, 3.0230]), b: tensor([-3.7921])\n",
            "epoch: 8200, cost: 0.009314, W: tensor([1.8772, 3.0222]), b: tensor([-3.7989])\n",
            "epoch: 8300, cost: 0.008715, W: tensor([1.8812, 3.0215]), b: tensor([-3.8055])\n",
            "epoch: 8400, cost: 0.008155, W: tensor([1.8851, 3.0208]), b: tensor([-3.8118])\n",
            "epoch: 8500, cost: 0.007630, W: tensor([1.8888, 3.0201]), b: tensor([-3.8180])\n",
            "epoch: 8600, cost: 0.007140, W: tensor([1.8925, 3.0195]), b: tensor([-3.8239])\n",
            "epoch: 8700, cost: 0.006680, W: tensor([1.8960, 3.0188]), b: tensor([-3.8297])\n",
            "epoch: 8800, cost: 0.006251, W: tensor([1.8994, 3.0182]), b: tensor([-3.8352])\n",
            "epoch: 8900, cost: 0.005849, W: tensor([1.9027, 3.0176]), b: tensor([-3.8406])\n",
            "epoch: 9000, cost: 0.005473, W: tensor([1.9059, 3.0170]), b: tensor([-3.8458])\n",
            "epoch: 9100, cost: 0.005121, W: tensor([1.9089, 3.0165]), b: tensor([-3.8509])\n",
            "epoch: 9200, cost: 0.004792, W: tensor([1.9119, 3.0159]), b: tensor([-3.8558])\n",
            "epoch: 9300, cost: 0.004483, W: tensor([1.9148, 3.0154]), b: tensor([-3.8605])\n",
            "epoch: 9400, cost: 0.004195, W: tensor([1.9176, 3.0149]), b: tensor([-3.8650])\n",
            "epoch: 9500, cost: 0.003925, W: tensor([1.9203, 3.0144]), b: tensor([-3.8694])\n",
            "epoch: 9600, cost: 0.003673, W: tensor([1.9229, 3.0140]), b: tensor([-3.8737])\n",
            "epoch: 9700, cost: 0.003437, W: tensor([1.9254, 3.0135]), b: tensor([-3.8778])\n",
            "epoch: 9800, cost: 0.003216, W: tensor([1.9278, 3.0131]), b: tensor([-3.8818])\n",
            "epoch: 9900, cost: 0.003009, W: tensor([1.9302, 3.0126]), b: tensor([-3.8857])\n"
          ]
        }
      ]
    },
    {
      "cell_type": "code",
      "source": [
        "x = torch.tensor([[5,10]],dtype=torch.float)\n",
        "t = torch.mm(x,w) +b\n",
        "print(t.item())"
      ],
      "metadata": {
        "colab": {
          "base_uri": "https://localhost:8080/"
        },
        "id": "aHzZ0hozwR3d",
        "outputId": "2501a786-5f8b-4a15-8fba-d83e87f327bd"
      },
      "execution_count": null,
      "outputs": [
        {
          "output_type": "stream",
          "name": "stdout",
          "text": [
            "35.89519119262695\n"
          ]
        }
      ]
    },
    {
      "cell_type": "code",
      "source": [
        "from sklearn.linear_model import LinearRegression\n",
        "x = [[1,2], [3,2], [3,7], [1,1], [1,0]]\n",
        "y = [[4], [8], [23], [1], [-2]]\n",
        "\n",
        "lr = LinearRegression()\n",
        "lr.fit(x,y)\n",
        "print(lr.coef_,lr.intercept_) #coef = w, intercept = b\n",
        "print(lr.predict([[5,10]]))"
      ],
      "metadata": {
        "colab": {
          "base_uri": "https://localhost:8080/"
        },
        "id": "uwAMYw8Rwy3F",
        "outputId": "2272380e-e2a9-4de7-fce2-0a7ed4a11939"
      },
      "execution_count": null,
      "outputs": [
        {
          "output_type": "stream",
          "name": "stdout",
          "text": [
            "[[2. 3.]] [-4.]\n",
            "[[36.]]\n"
          ]
        }
      ]
    }
  ]
}