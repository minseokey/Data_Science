{
  "nbformat": 4,
  "nbformat_minor": 0,
  "metadata": {
    "colab": {
      "provenance": [],
      "authorship_tag": "ABX9TyOJghhoq3AK2BWojkJOzmRm",
      "include_colab_link": true
    },
    "kernelspec": {
      "name": "python3",
      "display_name": "Python 3"
    },
    "language_info": {
      "name": "python"
    }
  },
  "cells": [
    {
      "cell_type": "markdown",
      "metadata": {
        "id": "view-in-github",
        "colab_type": "text"
      },
      "source": [
        "<a href=\"https://colab.research.google.com/github/minseokey/Data_Science/blob/main/DataScience_12_1.ipynb\" target=\"_parent\"><img src=\"https://colab.research.google.com/assets/colab-badge.svg\" alt=\"Open In Colab\"/></a>"
      ]
    },
    {
      "cell_type": "code",
      "execution_count": 1,
      "metadata": {
        "id": "-ivdtUCB9VQi"
      },
      "outputs": [],
      "source": [
        "import torch\n",
        "import requests\n",
        "import matplotlib.pyplot as plt\n",
        "import numpy as np"
      ]
    },
    {
      "cell_type": "code",
      "source": [
        "iris_url = \"https://archive.ics.uci.edu/ml/machine-learning-databases/iris/iris.data\"\n",
        "r = requests.get(iris_url)\n",
        "open('iris.data', 'wb').write(r.content)\n",
        "vectors = []\n",
        "answers = []\n",
        "with open('iris.data', 'r') as f:\n",
        " for line in f:\n",
        "  line = line.strip()\n",
        "  if len(line) != 0:\n",
        "    items = line.split(\",\")\n",
        "    vectors.append([float(x) for x in items[:4]])\n",
        "    answers.append(items[4])\n",
        "    species = {a: i for i, a in enumerate(set(answers))} "
      ],
      "metadata": {
        "id": "5D1mdXFp99z4"
      },
      "execution_count": 2,
      "outputs": []
    },
    {
      "cell_type": "code",
      "source": [
        "import pandas as pd\n",
        "data = pd.read_csv(\"iris.data\",names = ['a','b','c','d','e'])\n",
        "data_x = data.iloc[:,0:4]\n",
        "data_y = data.iloc[:,4]\n",
        "\n",
        "data_x\n",
        "data_y"
      ],
      "metadata": {
        "colab": {
          "base_uri": "https://localhost:8080/"
        },
        "id": "nfNVrcu9_GoZ",
        "outputId": "1355abb8-051f-4775-a06c-96baa26d6489"
      },
      "execution_count": 3,
      "outputs": [
        {
          "output_type": "execute_result",
          "data": {
            "text/plain": [
              "0         Iris-setosa\n",
              "1         Iris-setosa\n",
              "2         Iris-setosa\n",
              "3         Iris-setosa\n",
              "4         Iris-setosa\n",
              "            ...      \n",
              "145    Iris-virginica\n",
              "146    Iris-virginica\n",
              "147    Iris-virginica\n",
              "148    Iris-virginica\n",
              "149    Iris-virginica\n",
              "Name: e, Length: 150, dtype: object"
            ]
          },
          "metadata": {},
          "execution_count": 3
        }
      ]
    },
    {
      "cell_type": "code",
      "source": [
        "X = torch.tensor(torch.from_numpy(data_x.values),dtype= float)\n",
        "X"
      ],
      "metadata": {
        "colab": {
          "base_uri": "https://localhost:8080/"
        },
        "id": "l7MVwVX2_gi3",
        "outputId": "05884176-f586-4084-83e3-00fc1b380bc8"
      },
      "execution_count": 4,
      "outputs": [
        {
          "output_type": "stream",
          "name": "stderr",
          "text": [
            "<ipython-input-4-565d1380693f>:1: UserWarning: To copy construct from a tensor, it is recommended to use sourceTensor.clone().detach() or sourceTensor.clone().detach().requires_grad_(True), rather than torch.tensor(sourceTensor).\n",
            "  X = torch.tensor(torch.from_numpy(data_x.values),dtype= float)\n"
          ]
        },
        {
          "output_type": "execute_result",
          "data": {
            "text/plain": [
              "tensor([[5.1000, 3.5000, 1.4000, 0.2000],\n",
              "        [4.9000, 3.0000, 1.4000, 0.2000],\n",
              "        [4.7000, 3.2000, 1.3000, 0.2000],\n",
              "        [4.6000, 3.1000, 1.5000, 0.2000],\n",
              "        [5.0000, 3.6000, 1.4000, 0.2000],\n",
              "        [5.4000, 3.9000, 1.7000, 0.4000],\n",
              "        [4.6000, 3.4000, 1.4000, 0.3000],\n",
              "        [5.0000, 3.4000, 1.5000, 0.2000],\n",
              "        [4.4000, 2.9000, 1.4000, 0.2000],\n",
              "        [4.9000, 3.1000, 1.5000, 0.1000],\n",
              "        [5.4000, 3.7000, 1.5000, 0.2000],\n",
              "        [4.8000, 3.4000, 1.6000, 0.2000],\n",
              "        [4.8000, 3.0000, 1.4000, 0.1000],\n",
              "        [4.3000, 3.0000, 1.1000, 0.1000],\n",
              "        [5.8000, 4.0000, 1.2000, 0.2000],\n",
              "        [5.7000, 4.4000, 1.5000, 0.4000],\n",
              "        [5.4000, 3.9000, 1.3000, 0.4000],\n",
              "        [5.1000, 3.5000, 1.4000, 0.3000],\n",
              "        [5.7000, 3.8000, 1.7000, 0.3000],\n",
              "        [5.1000, 3.8000, 1.5000, 0.3000],\n",
              "        [5.4000, 3.4000, 1.7000, 0.2000],\n",
              "        [5.1000, 3.7000, 1.5000, 0.4000],\n",
              "        [4.6000, 3.6000, 1.0000, 0.2000],\n",
              "        [5.1000, 3.3000, 1.7000, 0.5000],\n",
              "        [4.8000, 3.4000, 1.9000, 0.2000],\n",
              "        [5.0000, 3.0000, 1.6000, 0.2000],\n",
              "        [5.0000, 3.4000, 1.6000, 0.4000],\n",
              "        [5.2000, 3.5000, 1.5000, 0.2000],\n",
              "        [5.2000, 3.4000, 1.4000, 0.2000],\n",
              "        [4.7000, 3.2000, 1.6000, 0.2000],\n",
              "        [4.8000, 3.1000, 1.6000, 0.2000],\n",
              "        [5.4000, 3.4000, 1.5000, 0.4000],\n",
              "        [5.2000, 4.1000, 1.5000, 0.1000],\n",
              "        [5.5000, 4.2000, 1.4000, 0.2000],\n",
              "        [4.9000, 3.1000, 1.5000, 0.1000],\n",
              "        [5.0000, 3.2000, 1.2000, 0.2000],\n",
              "        [5.5000, 3.5000, 1.3000, 0.2000],\n",
              "        [4.9000, 3.1000, 1.5000, 0.1000],\n",
              "        [4.4000, 3.0000, 1.3000, 0.2000],\n",
              "        [5.1000, 3.4000, 1.5000, 0.2000],\n",
              "        [5.0000, 3.5000, 1.3000, 0.3000],\n",
              "        [4.5000, 2.3000, 1.3000, 0.3000],\n",
              "        [4.4000, 3.2000, 1.3000, 0.2000],\n",
              "        [5.0000, 3.5000, 1.6000, 0.6000],\n",
              "        [5.1000, 3.8000, 1.9000, 0.4000],\n",
              "        [4.8000, 3.0000, 1.4000, 0.3000],\n",
              "        [5.1000, 3.8000, 1.6000, 0.2000],\n",
              "        [4.6000, 3.2000, 1.4000, 0.2000],\n",
              "        [5.3000, 3.7000, 1.5000, 0.2000],\n",
              "        [5.0000, 3.3000, 1.4000, 0.2000],\n",
              "        [7.0000, 3.2000, 4.7000, 1.4000],\n",
              "        [6.4000, 3.2000, 4.5000, 1.5000],\n",
              "        [6.9000, 3.1000, 4.9000, 1.5000],\n",
              "        [5.5000, 2.3000, 4.0000, 1.3000],\n",
              "        [6.5000, 2.8000, 4.6000, 1.5000],\n",
              "        [5.7000, 2.8000, 4.5000, 1.3000],\n",
              "        [6.3000, 3.3000, 4.7000, 1.6000],\n",
              "        [4.9000, 2.4000, 3.3000, 1.0000],\n",
              "        [6.6000, 2.9000, 4.6000, 1.3000],\n",
              "        [5.2000, 2.7000, 3.9000, 1.4000],\n",
              "        [5.0000, 2.0000, 3.5000, 1.0000],\n",
              "        [5.9000, 3.0000, 4.2000, 1.5000],\n",
              "        [6.0000, 2.2000, 4.0000, 1.0000],\n",
              "        [6.1000, 2.9000, 4.7000, 1.4000],\n",
              "        [5.6000, 2.9000, 3.6000, 1.3000],\n",
              "        [6.7000, 3.1000, 4.4000, 1.4000],\n",
              "        [5.6000, 3.0000, 4.5000, 1.5000],\n",
              "        [5.8000, 2.7000, 4.1000, 1.0000],\n",
              "        [6.2000, 2.2000, 4.5000, 1.5000],\n",
              "        [5.6000, 2.5000, 3.9000, 1.1000],\n",
              "        [5.9000, 3.2000, 4.8000, 1.8000],\n",
              "        [6.1000, 2.8000, 4.0000, 1.3000],\n",
              "        [6.3000, 2.5000, 4.9000, 1.5000],\n",
              "        [6.1000, 2.8000, 4.7000, 1.2000],\n",
              "        [6.4000, 2.9000, 4.3000, 1.3000],\n",
              "        [6.6000, 3.0000, 4.4000, 1.4000],\n",
              "        [6.8000, 2.8000, 4.8000, 1.4000],\n",
              "        [6.7000, 3.0000, 5.0000, 1.7000],\n",
              "        [6.0000, 2.9000, 4.5000, 1.5000],\n",
              "        [5.7000, 2.6000, 3.5000, 1.0000],\n",
              "        [5.5000, 2.4000, 3.8000, 1.1000],\n",
              "        [5.5000, 2.4000, 3.7000, 1.0000],\n",
              "        [5.8000, 2.7000, 3.9000, 1.2000],\n",
              "        [6.0000, 2.7000, 5.1000, 1.6000],\n",
              "        [5.4000, 3.0000, 4.5000, 1.5000],\n",
              "        [6.0000, 3.4000, 4.5000, 1.6000],\n",
              "        [6.7000, 3.1000, 4.7000, 1.5000],\n",
              "        [6.3000, 2.3000, 4.4000, 1.3000],\n",
              "        [5.6000, 3.0000, 4.1000, 1.3000],\n",
              "        [5.5000, 2.5000, 4.0000, 1.3000],\n",
              "        [5.5000, 2.6000, 4.4000, 1.2000],\n",
              "        [6.1000, 3.0000, 4.6000, 1.4000],\n",
              "        [5.8000, 2.6000, 4.0000, 1.2000],\n",
              "        [5.0000, 2.3000, 3.3000, 1.0000],\n",
              "        [5.6000, 2.7000, 4.2000, 1.3000],\n",
              "        [5.7000, 3.0000, 4.2000, 1.2000],\n",
              "        [5.7000, 2.9000, 4.2000, 1.3000],\n",
              "        [6.2000, 2.9000, 4.3000, 1.3000],\n",
              "        [5.1000, 2.5000, 3.0000, 1.1000],\n",
              "        [5.7000, 2.8000, 4.1000, 1.3000],\n",
              "        [6.3000, 3.3000, 6.0000, 2.5000],\n",
              "        [5.8000, 2.7000, 5.1000, 1.9000],\n",
              "        [7.1000, 3.0000, 5.9000, 2.1000],\n",
              "        [6.3000, 2.9000, 5.6000, 1.8000],\n",
              "        [6.5000, 3.0000, 5.8000, 2.2000],\n",
              "        [7.6000, 3.0000, 6.6000, 2.1000],\n",
              "        [4.9000, 2.5000, 4.5000, 1.7000],\n",
              "        [7.3000, 2.9000, 6.3000, 1.8000],\n",
              "        [6.7000, 2.5000, 5.8000, 1.8000],\n",
              "        [7.2000, 3.6000, 6.1000, 2.5000],\n",
              "        [6.5000, 3.2000, 5.1000, 2.0000],\n",
              "        [6.4000, 2.7000, 5.3000, 1.9000],\n",
              "        [6.8000, 3.0000, 5.5000, 2.1000],\n",
              "        [5.7000, 2.5000, 5.0000, 2.0000],\n",
              "        [5.8000, 2.8000, 5.1000, 2.4000],\n",
              "        [6.4000, 3.2000, 5.3000, 2.3000],\n",
              "        [6.5000, 3.0000, 5.5000, 1.8000],\n",
              "        [7.7000, 3.8000, 6.7000, 2.2000],\n",
              "        [7.7000, 2.6000, 6.9000, 2.3000],\n",
              "        [6.0000, 2.2000, 5.0000, 1.5000],\n",
              "        [6.9000, 3.2000, 5.7000, 2.3000],\n",
              "        [5.6000, 2.8000, 4.9000, 2.0000],\n",
              "        [7.7000, 2.8000, 6.7000, 2.0000],\n",
              "        [6.3000, 2.7000, 4.9000, 1.8000],\n",
              "        [6.7000, 3.3000, 5.7000, 2.1000],\n",
              "        [7.2000, 3.2000, 6.0000, 1.8000],\n",
              "        [6.2000, 2.8000, 4.8000, 1.8000],\n",
              "        [6.1000, 3.0000, 4.9000, 1.8000],\n",
              "        [6.4000, 2.8000, 5.6000, 2.1000],\n",
              "        [7.2000, 3.0000, 5.8000, 1.6000],\n",
              "        [7.4000, 2.8000, 6.1000, 1.9000],\n",
              "        [7.9000, 3.8000, 6.4000, 2.0000],\n",
              "        [6.4000, 2.8000, 5.6000, 2.2000],\n",
              "        [6.3000, 2.8000, 5.1000, 1.5000],\n",
              "        [6.1000, 2.6000, 5.6000, 1.4000],\n",
              "        [7.7000, 3.0000, 6.1000, 2.3000],\n",
              "        [6.3000, 3.4000, 5.6000, 2.4000],\n",
              "        [6.4000, 3.1000, 5.5000, 1.8000],\n",
              "        [6.0000, 3.0000, 4.8000, 1.8000],\n",
              "        [6.9000, 3.1000, 5.4000, 2.1000],\n",
              "        [6.7000, 3.1000, 5.6000, 2.4000],\n",
              "        [6.9000, 3.1000, 5.1000, 2.3000],\n",
              "        [5.8000, 2.7000, 5.1000, 1.9000],\n",
              "        [6.8000, 3.2000, 5.9000, 2.3000],\n",
              "        [6.7000, 3.3000, 5.7000, 2.5000],\n",
              "        [6.7000, 3.0000, 5.2000, 2.3000],\n",
              "        [6.3000, 2.5000, 5.0000, 1.9000],\n",
              "        [6.5000, 3.0000, 5.2000, 2.0000],\n",
              "        [6.2000, 3.4000, 5.4000, 2.3000],\n",
              "        [5.9000, 3.0000, 5.1000, 1.8000]], dtype=torch.float64)"
            ]
          },
          "metadata": {},
          "execution_count": 4
        }
      ]
    },
    {
      "cell_type": "code",
      "source": [
        "X - X.mean(dim = 0)"
      ],
      "metadata": {
        "colab": {
          "base_uri": "https://localhost:8080/"
        },
        "id": "CBkcwtDIAxAC",
        "outputId": "0587273e-1d25-41dd-b090-8f8fd928695a"
      },
      "execution_count": 5,
      "outputs": [
        {
          "output_type": "execute_result",
          "data": {
            "text/plain": [
              "tensor([[-7.4333e-01,  4.4600e-01, -2.3587e+00, -9.9867e-01],\n",
              "        [-9.4333e-01, -5.4000e-02, -2.3587e+00, -9.9867e-01],\n",
              "        [-1.1433e+00,  1.4600e-01, -2.4587e+00, -9.9867e-01],\n",
              "        [-1.2433e+00,  4.6000e-02, -2.2587e+00, -9.9867e-01],\n",
              "        [-8.4333e-01,  5.4600e-01, -2.3587e+00, -9.9867e-01],\n",
              "        [-4.4333e-01,  8.4600e-01, -2.0587e+00, -7.9867e-01],\n",
              "        [-1.2433e+00,  3.4600e-01, -2.3587e+00, -8.9867e-01],\n",
              "        [-8.4333e-01,  3.4600e-01, -2.2587e+00, -9.9867e-01],\n",
              "        [-1.4433e+00, -1.5400e-01, -2.3587e+00, -9.9867e-01],\n",
              "        [-9.4333e-01,  4.6000e-02, -2.2587e+00, -1.0987e+00],\n",
              "        [-4.4333e-01,  6.4600e-01, -2.2587e+00, -9.9867e-01],\n",
              "        [-1.0433e+00,  3.4600e-01, -2.1587e+00, -9.9867e-01],\n",
              "        [-1.0433e+00, -5.4000e-02, -2.3587e+00, -1.0987e+00],\n",
              "        [-1.5433e+00, -5.4000e-02, -2.6587e+00, -1.0987e+00],\n",
              "        [-4.3333e-02,  9.4600e-01, -2.5587e+00, -9.9867e-01],\n",
              "        [-1.4333e-01,  1.3460e+00, -2.2587e+00, -7.9867e-01],\n",
              "        [-4.4333e-01,  8.4600e-01, -2.4587e+00, -7.9867e-01],\n",
              "        [-7.4333e-01,  4.4600e-01, -2.3587e+00, -8.9867e-01],\n",
              "        [-1.4333e-01,  7.4600e-01, -2.0587e+00, -8.9867e-01],\n",
              "        [-7.4333e-01,  7.4600e-01, -2.2587e+00, -8.9867e-01],\n",
              "        [-4.4333e-01,  3.4600e-01, -2.0587e+00, -9.9867e-01],\n",
              "        [-7.4333e-01,  6.4600e-01, -2.2587e+00, -7.9867e-01],\n",
              "        [-1.2433e+00,  5.4600e-01, -2.7587e+00, -9.9867e-01],\n",
              "        [-7.4333e-01,  2.4600e-01, -2.0587e+00, -6.9867e-01],\n",
              "        [-1.0433e+00,  3.4600e-01, -1.8587e+00, -9.9867e-01],\n",
              "        [-8.4333e-01, -5.4000e-02, -2.1587e+00, -9.9867e-01],\n",
              "        [-8.4333e-01,  3.4600e-01, -2.1587e+00, -7.9867e-01],\n",
              "        [-6.4333e-01,  4.4600e-01, -2.2587e+00, -9.9867e-01],\n",
              "        [-6.4333e-01,  3.4600e-01, -2.3587e+00, -9.9867e-01],\n",
              "        [-1.1433e+00,  1.4600e-01, -2.1587e+00, -9.9867e-01],\n",
              "        [-1.0433e+00,  4.6000e-02, -2.1587e+00, -9.9867e-01],\n",
              "        [-4.4333e-01,  3.4600e-01, -2.2587e+00, -7.9867e-01],\n",
              "        [-6.4333e-01,  1.0460e+00, -2.2587e+00, -1.0987e+00],\n",
              "        [-3.4333e-01,  1.1460e+00, -2.3587e+00, -9.9867e-01],\n",
              "        [-9.4333e-01,  4.6000e-02, -2.2587e+00, -1.0987e+00],\n",
              "        [-8.4333e-01,  1.4600e-01, -2.5587e+00, -9.9867e-01],\n",
              "        [-3.4333e-01,  4.4600e-01, -2.4587e+00, -9.9867e-01],\n",
              "        [-9.4333e-01,  4.6000e-02, -2.2587e+00, -1.0987e+00],\n",
              "        [-1.4433e+00, -5.4000e-02, -2.4587e+00, -9.9867e-01],\n",
              "        [-7.4333e-01,  3.4600e-01, -2.2587e+00, -9.9867e-01],\n",
              "        [-8.4333e-01,  4.4600e-01, -2.4587e+00, -8.9867e-01],\n",
              "        [-1.3433e+00, -7.5400e-01, -2.4587e+00, -8.9867e-01],\n",
              "        [-1.4433e+00,  1.4600e-01, -2.4587e+00, -9.9867e-01],\n",
              "        [-8.4333e-01,  4.4600e-01, -2.1587e+00, -5.9867e-01],\n",
              "        [-7.4333e-01,  7.4600e-01, -1.8587e+00, -7.9867e-01],\n",
              "        [-1.0433e+00, -5.4000e-02, -2.3587e+00, -8.9867e-01],\n",
              "        [-7.4333e-01,  7.4600e-01, -2.1587e+00, -9.9867e-01],\n",
              "        [-1.2433e+00,  1.4600e-01, -2.3587e+00, -9.9867e-01],\n",
              "        [-5.4333e-01,  6.4600e-01, -2.2587e+00, -9.9867e-01],\n",
              "        [-8.4333e-01,  2.4600e-01, -2.3587e+00, -9.9867e-01],\n",
              "        [ 1.1567e+00,  1.4600e-01,  9.4133e-01,  2.0133e-01],\n",
              "        [ 5.5667e-01,  1.4600e-01,  7.4133e-01,  3.0133e-01],\n",
              "        [ 1.0567e+00,  4.6000e-02,  1.1413e+00,  3.0133e-01],\n",
              "        [-3.4333e-01, -7.5400e-01,  2.4133e-01,  1.0133e-01],\n",
              "        [ 6.5667e-01, -2.5400e-01,  8.4133e-01,  3.0133e-01],\n",
              "        [-1.4333e-01, -2.5400e-01,  7.4133e-01,  1.0133e-01],\n",
              "        [ 4.5667e-01,  2.4600e-01,  9.4133e-01,  4.0133e-01],\n",
              "        [-9.4333e-01, -6.5400e-01, -4.5867e-01, -1.9867e-01],\n",
              "        [ 7.5667e-01, -1.5400e-01,  8.4133e-01,  1.0133e-01],\n",
              "        [-6.4333e-01, -3.5400e-01,  1.4133e-01,  2.0133e-01],\n",
              "        [-8.4333e-01, -1.0540e+00, -2.5867e-01, -1.9867e-01],\n",
              "        [ 5.6667e-02, -5.4000e-02,  4.4133e-01,  3.0133e-01],\n",
              "        [ 1.5667e-01, -8.5400e-01,  2.4133e-01, -1.9867e-01],\n",
              "        [ 2.5667e-01, -1.5400e-01,  9.4133e-01,  2.0133e-01],\n",
              "        [-2.4333e-01, -1.5400e-01, -1.5867e-01,  1.0133e-01],\n",
              "        [ 8.5667e-01,  4.6000e-02,  6.4133e-01,  2.0133e-01],\n",
              "        [-2.4333e-01, -5.4000e-02,  7.4133e-01,  3.0133e-01],\n",
              "        [-4.3333e-02, -3.5400e-01,  3.4133e-01, -1.9867e-01],\n",
              "        [ 3.5667e-01, -8.5400e-01,  7.4133e-01,  3.0133e-01],\n",
              "        [-2.4333e-01, -5.5400e-01,  1.4133e-01, -9.8667e-02],\n",
              "        [ 5.6667e-02,  1.4600e-01,  1.0413e+00,  6.0133e-01],\n",
              "        [ 2.5667e-01, -2.5400e-01,  2.4133e-01,  1.0133e-01],\n",
              "        [ 4.5667e-01, -5.5400e-01,  1.1413e+00,  3.0133e-01],\n",
              "        [ 2.5667e-01, -2.5400e-01,  9.4133e-01,  1.3333e-03],\n",
              "        [ 5.5667e-01, -1.5400e-01,  5.4133e-01,  1.0133e-01],\n",
              "        [ 7.5667e-01, -5.4000e-02,  6.4133e-01,  2.0133e-01],\n",
              "        [ 9.5667e-01, -2.5400e-01,  1.0413e+00,  2.0133e-01],\n",
              "        [ 8.5667e-01, -5.4000e-02,  1.2413e+00,  5.0133e-01],\n",
              "        [ 1.5667e-01, -1.5400e-01,  7.4133e-01,  3.0133e-01],\n",
              "        [-1.4333e-01, -4.5400e-01, -2.5867e-01, -1.9867e-01],\n",
              "        [-3.4333e-01, -6.5400e-01,  4.1333e-02, -9.8667e-02],\n",
              "        [-3.4333e-01, -6.5400e-01, -5.8667e-02, -1.9867e-01],\n",
              "        [-4.3333e-02, -3.5400e-01,  1.4133e-01,  1.3333e-03],\n",
              "        [ 1.5667e-01, -3.5400e-01,  1.3413e+00,  4.0133e-01],\n",
              "        [-4.4333e-01, -5.4000e-02,  7.4133e-01,  3.0133e-01],\n",
              "        [ 1.5667e-01,  3.4600e-01,  7.4133e-01,  4.0133e-01],\n",
              "        [ 8.5667e-01,  4.6000e-02,  9.4133e-01,  3.0133e-01],\n",
              "        [ 4.5667e-01, -7.5400e-01,  6.4133e-01,  1.0133e-01],\n",
              "        [-2.4333e-01, -5.4000e-02,  3.4133e-01,  1.0133e-01],\n",
              "        [-3.4333e-01, -5.5400e-01,  2.4133e-01,  1.0133e-01],\n",
              "        [-3.4333e-01, -4.5400e-01,  6.4133e-01,  1.3333e-03],\n",
              "        [ 2.5667e-01, -5.4000e-02,  8.4133e-01,  2.0133e-01],\n",
              "        [-4.3333e-02, -4.5400e-01,  2.4133e-01,  1.3333e-03],\n",
              "        [-8.4333e-01, -7.5400e-01, -4.5867e-01, -1.9867e-01],\n",
              "        [-2.4333e-01, -3.5400e-01,  4.4133e-01,  1.0133e-01],\n",
              "        [-1.4333e-01, -5.4000e-02,  4.4133e-01,  1.3333e-03],\n",
              "        [-1.4333e-01, -1.5400e-01,  4.4133e-01,  1.0133e-01],\n",
              "        [ 3.5667e-01, -1.5400e-01,  5.4133e-01,  1.0133e-01],\n",
              "        [-7.4333e-01, -5.5400e-01, -7.5867e-01, -9.8667e-02],\n",
              "        [-1.4333e-01, -2.5400e-01,  3.4133e-01,  1.0133e-01],\n",
              "        [ 4.5667e-01,  2.4600e-01,  2.2413e+00,  1.3013e+00],\n",
              "        [-4.3333e-02, -3.5400e-01,  1.3413e+00,  7.0133e-01],\n",
              "        [ 1.2567e+00, -5.4000e-02,  2.1413e+00,  9.0133e-01],\n",
              "        [ 4.5667e-01, -1.5400e-01,  1.8413e+00,  6.0133e-01],\n",
              "        [ 6.5667e-01, -5.4000e-02,  2.0413e+00,  1.0013e+00],\n",
              "        [ 1.7567e+00, -5.4000e-02,  2.8413e+00,  9.0133e-01],\n",
              "        [-9.4333e-01, -5.5400e-01,  7.4133e-01,  5.0133e-01],\n",
              "        [ 1.4567e+00, -1.5400e-01,  2.5413e+00,  6.0133e-01],\n",
              "        [ 8.5667e-01, -5.5400e-01,  2.0413e+00,  6.0133e-01],\n",
              "        [ 1.3567e+00,  5.4600e-01,  2.3413e+00,  1.3013e+00],\n",
              "        [ 6.5667e-01,  1.4600e-01,  1.3413e+00,  8.0133e-01],\n",
              "        [ 5.5667e-01, -3.5400e-01,  1.5413e+00,  7.0133e-01],\n",
              "        [ 9.5667e-01, -5.4000e-02,  1.7413e+00,  9.0133e-01],\n",
              "        [-1.4333e-01, -5.5400e-01,  1.2413e+00,  8.0133e-01],\n",
              "        [-4.3333e-02, -2.5400e-01,  1.3413e+00,  1.2013e+00],\n",
              "        [ 5.5667e-01,  1.4600e-01,  1.5413e+00,  1.1013e+00],\n",
              "        [ 6.5667e-01, -5.4000e-02,  1.7413e+00,  6.0133e-01],\n",
              "        [ 1.8567e+00,  7.4600e-01,  2.9413e+00,  1.0013e+00],\n",
              "        [ 1.8567e+00, -4.5400e-01,  3.1413e+00,  1.1013e+00],\n",
              "        [ 1.5667e-01, -8.5400e-01,  1.2413e+00,  3.0133e-01],\n",
              "        [ 1.0567e+00,  1.4600e-01,  1.9413e+00,  1.1013e+00],\n",
              "        [-2.4333e-01, -2.5400e-01,  1.1413e+00,  8.0133e-01],\n",
              "        [ 1.8567e+00, -2.5400e-01,  2.9413e+00,  8.0133e-01],\n",
              "        [ 4.5667e-01, -3.5400e-01,  1.1413e+00,  6.0133e-01],\n",
              "        [ 8.5667e-01,  2.4600e-01,  1.9413e+00,  9.0133e-01],\n",
              "        [ 1.3567e+00,  1.4600e-01,  2.2413e+00,  6.0133e-01],\n",
              "        [ 3.5667e-01, -2.5400e-01,  1.0413e+00,  6.0133e-01],\n",
              "        [ 2.5667e-01, -5.4000e-02,  1.1413e+00,  6.0133e-01],\n",
              "        [ 5.5667e-01, -2.5400e-01,  1.8413e+00,  9.0133e-01],\n",
              "        [ 1.3567e+00, -5.4000e-02,  2.0413e+00,  4.0133e-01],\n",
              "        [ 1.5567e+00, -2.5400e-01,  2.3413e+00,  7.0133e-01],\n",
              "        [ 2.0567e+00,  7.4600e-01,  2.6413e+00,  8.0133e-01],\n",
              "        [ 5.5667e-01, -2.5400e-01,  1.8413e+00,  1.0013e+00],\n",
              "        [ 4.5667e-01, -2.5400e-01,  1.3413e+00,  3.0133e-01],\n",
              "        [ 2.5667e-01, -4.5400e-01,  1.8413e+00,  2.0133e-01],\n",
              "        [ 1.8567e+00, -5.4000e-02,  2.3413e+00,  1.1013e+00],\n",
              "        [ 4.5667e-01,  3.4600e-01,  1.8413e+00,  1.2013e+00],\n",
              "        [ 5.5667e-01,  4.6000e-02,  1.7413e+00,  6.0133e-01],\n",
              "        [ 1.5667e-01, -5.4000e-02,  1.0413e+00,  6.0133e-01],\n",
              "        [ 1.0567e+00,  4.6000e-02,  1.6413e+00,  9.0133e-01],\n",
              "        [ 8.5667e-01,  4.6000e-02,  1.8413e+00,  1.2013e+00],\n",
              "        [ 1.0567e+00,  4.6000e-02,  1.3413e+00,  1.1013e+00],\n",
              "        [-4.3333e-02, -3.5400e-01,  1.3413e+00,  7.0133e-01],\n",
              "        [ 9.5667e-01,  1.4600e-01,  2.1413e+00,  1.1013e+00],\n",
              "        [ 8.5667e-01,  2.4600e-01,  1.9413e+00,  1.3013e+00],\n",
              "        [ 8.5667e-01, -5.4000e-02,  1.4413e+00,  1.1013e+00],\n",
              "        [ 4.5667e-01, -5.5400e-01,  1.2413e+00,  7.0133e-01],\n",
              "        [ 6.5667e-01, -5.4000e-02,  1.4413e+00,  8.0133e-01],\n",
              "        [ 3.5667e-01,  3.4600e-01,  1.6413e+00,  1.1013e+00],\n",
              "        [ 5.6667e-02, -5.4000e-02,  1.3413e+00,  6.0133e-01]],\n",
              "       dtype=torch.float64)"
            ]
          },
          "metadata": {},
          "execution_count": 5
        }
      ]
    },
    {
      "cell_type": "code",
      "source": [
        "import matplotlib.pyplot as plt\n",
        "\n",
        "\n",
        "speices = {x:i for i,x in enumerate(set(data_y))}\n",
        "sp = [species[d] for d in data_y]\n",
        "\n",
        "Z = X - X.mean(dim = 0)\n",
        "plt.scatter(Z[:,0],Z[:,1],c = sp,alpha = 0.3)\n",
        "\n",
        "plt.show()"
      ],
      "metadata": {
        "colab": {
          "base_uri": "https://localhost:8080/",
          "height": 265
        },
        "id": "5wslw5RxA_Ht",
        "outputId": "11570b29-cb65-4128-f462-7e1362eae619"
      },
      "execution_count": 6,
      "outputs": [
        {
          "output_type": "display_data",
          "data": {
            "text/plain": [
              "<Figure size 432x288 with 1 Axes>"
            ],
            "image/png": "[encoded data removed]"
          },
          "metadata": {
            "needs_background": "light"
          }
        }
      ]
    },
    {
      "cell_type": "code",
      "source": [
        "# random vector\n",
        "w = torch.randn(Z.shape[1])\n",
        "w /= (w**2).sum() **0.5\n",
        "\n",
        "# w에 사영 내렸을때 분산\n",
        "variance = ((Z*w).sum(dim = 1)**2).mean()\n"
      ],
      "metadata": {
        "id": "wvcflY3ECJrA"
      },
      "execution_count": 7,
      "outputs": []
    },
    {
      "cell_type": "code",
      "source": [
        "def findPc(Z):\n",
        "  w = torch.randn(Z.shape[1])\n",
        "  lr = 0.1\n",
        "  for epoch in range(101):\n",
        "    w.requires_grad_(True)\n",
        "    variance = ((Z*w).sum(dim = 1)**2).mean()\n",
        "    variance.backward()\n",
        "\n",
        "    with torch.no_grad():\n",
        "      w += lr * w.grad\n",
        "      w /= (w**2).sum() **0.5 \n",
        "  print(f\"{w},{variance.item()}\")\n",
        "  w.requires_grad_(False)\n",
        "  return w,variance.item()\n",
        "\n",
        "res = findPc(Z)\n",
        "res"
      ],
      "metadata": {
        "colab": {
          "base_uri": "https://localhost:8080/"
        },
        "id": "VNgSVKI3DyO5",
        "outputId": "c189355a-723d-43e9-ac19-562dda2a5b5c"
      },
      "execution_count": 8,
      "outputs": [
        {
          "output_type": "stream",
          "name": "stdout",
          "text": [
            "tensor([-0.3623,  0.0817, -0.8564, -0.3587], requires_grad=True),4.196671701591665\n"
          ]
        },
        {
          "output_type": "execute_result",
          "data": {
            "text/plain": [
              "(tensor([-0.3623,  0.0817, -0.8564, -0.3587]), 4.196671701591665)"
            ]
          },
          "metadata": {},
          "execution_count": 8
        }
      ]
    },
    {
      "cell_type": "code",
      "source": [
        "def PCA(k,Z):\n",
        "  Z = torch.tensor(Z)\n",
        "  PC = []\n",
        "  VAR = []\n",
        "\n",
        "  for i in range(k):\n",
        "    w,v = findPc(Z)\n",
        "    PC.append(w)\n",
        "    VAR.append(v)\n",
        "    Z = Z - w * (Z*w).sum(dim = 1).unsqueeze(1)\n",
        "\n",
        "  return PC,VAR\n",
        "#x = z - w x (z*w)\n",
        "# Z - w * (Z*w).sum(dim = 1).unsqueeze(1)\n",
        "\n",
        "res = PCA(4,Z)\n",
        "res"
      ],
      "metadata": {
        "colab": {
          "base_uri": "https://localhost:8080/"
        },
        "id": "yQ8i-_5eDzxM",
        "outputId": "bb15bc51-4db2-4ec1-f7e7-8898943aa746"
      },
      "execution_count": 9,
      "outputs": [
        {
          "output_type": "stream",
          "name": "stdout",
          "text": [
            "tensor([ 0.3625, -0.0811,  0.8563,  0.3588], requires_grad=True),4.196666912721712\n"
          ]
        },
        {
          "output_type": "stream",
          "name": "stderr",
          "text": [
            "<ipython-input-9-08466943be00>:2: UserWarning: To copy construct from a tensor, it is recommended to use sourceTensor.clone().detach() or sourceTensor.clone().detach().requires_grad_(True), rather than torch.tensor(sourceTensor).\n",
            "  Z = torch.tensor(Z)\n"
          ]
        },
        {
          "output_type": "stream",
          "name": "stdout",
          "text": [
            "tensor([ 0.6551,  0.7307, -0.1796, -0.0679], requires_grad=True),0.2406246633127379\n",
            "tensor([-0.5340,  0.5404,  0.0048,  0.6502], requires_grad=True),0.07689679573943044\n",
            "tensor([-0.3928,  0.4092,  0.4842, -0.6663], requires_grad=True),0.024622605249332134\n"
          ]
        },
        {
          "output_type": "execute_result",
          "data": {
            "text/plain": [
              "([tensor([ 0.3625, -0.0811,  0.8563,  0.3588]),\n",
              "  tensor([ 0.6551,  0.7307, -0.1796, -0.0679]),\n",
              "  tensor([-0.5340,  0.5404,  0.0048,  0.6502]),\n",
              "  tensor([-0.3928,  0.4092,  0.4842, -0.6663])],\n",
              " [4.196666912721712,\n",
              "  0.2406246633127379,\n",
              "  0.07689679573943044,\n",
              "  0.024622605249332134])"
            ]
          },
          "metadata": {},
          "execution_count": 9
        }
      ]
    },
    {
      "cell_type": "code",
      "source": [
        "plt.plot(res[1],\"-o\")\n",
        "plt.show()"
      ],
      "metadata": {
        "colab": {
          "base_uri": "https://localhost:8080/",
          "height": 265
        },
        "id": "Q9qlz7GBIXdn",
        "outputId": "949b30ac-5869-4dd2-8b8c-d7e7a0b7d3ee"
      },
      "execution_count": 10,
      "outputs": [
        {
          "output_type": "display_data",
          "data": {
            "text/plain": [
              "<Figure size 432x288 with 1 Axes>"
            ],
            "image/png": "[encoded data removed]"
          },
          "metadata": {
            "needs_background": "light"
          }
        }
      ]
    },
    {
      "cell_type": "code",
      "source": [
        "def transform(Z,W):\n",
        "  Z = Z.float()\n",
        "  return Z @ torch.stack(W).T\n",
        " # @ = 메트릭스 곱\n",
        " #.T => 트랜스포즈\n",
        " # Stack => 열로 좌표들을 쌓음\n",
        "\n",
        "W,_ = PCA(4,Z)\n",
        "A = transform(Z,W)\n",
        "\n",
        "plt.scatter(A[:,0],A[:,1],c = sp,alpha = 0.3)\n",
        "plt.show()\n"
      ],
      "metadata": {
        "colab": {
          "base_uri": "https://localhost:8080/",
          "height": 396
        },
        "id": "gL462-3gIhtA",
        "outputId": "e92dd2c7-f4da-4ef4-b199-3af6029471f1"
      },
      "execution_count": 11,
      "outputs": [
        {
          "output_type": "stream",
          "name": "stderr",
          "text": [
            "<ipython-input-9-08466943be00>:2: UserWarning: To copy construct from a tensor, it is recommended to use sourceTensor.clone().detach() or sourceTensor.clone().detach().requires_grad_(True), rather than torch.tensor(sourceTensor).\n",
            "  Z = torch.tensor(Z)\n"
          ]
        },
        {
          "output_type": "stream",
          "name": "stdout",
          "text": [
            "tensor([ 0.3623, -0.0818,  0.8564,  0.3587], requires_grad=True),4.196672271929137\n",
            "tensor([ 0.6593,  0.7266, -0.1767, -0.0784], requires_grad=True),0.24062632052396932\n",
            "tensor([ 0.6090, -0.6327, -0.1247, -0.4617], requires_grad=True),0.07731992536962208\n",
            "tensor([ 0.2513, -0.2549, -0.4689,  0.8075], requires_grad=True),0.024200365035651997\n"
          ]
        },
        {
          "output_type": "display_data",
          "data": {
            "text/plain": [
              "<Figure size 432x288 with 1 Axes>"
            ],
            "image/png": "[encoded data removed]"
          },
          "metadata": {
            "needs_background": "light"
          }
        }
      ]
    }
  ]
}